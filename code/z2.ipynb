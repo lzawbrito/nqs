{
 "cells": [
  {
   "cell_type": "code",
   "execution_count": 21,
   "metadata": {},
   "outputs": [],
   "source": [
    "import os\n",
    "import netket as nk\n",
    "from netket.operator.spin import sigmax, sigmaz, sigmay\n",
    "# from src.wilson import * \n",
    "from src.models import * \n",
    "import matplotlib.pyplot as plt\n",
    "nk.config.netket_debug = True"
   ]
  },
  {
   "cell_type": "markdown",
   "metadata": {},
   "source": [
    "## Parameters"
   ]
  },
  {
   "cell_type": "code",
   "execution_count": 15,
   "metadata": {},
   "outputs": [],
   "source": [
    "L = 8"
   ]
  },
  {
   "cell_type": "markdown",
   "metadata": {},
   "source": [
    "note hilbert space is on edges\n",
    "there is no natural ordering to the hilbert space so we will have to impose one.\n",
    "this is specified by wilson.ordered_edges.\n",
    "as long as we respect this ordering across all implementations, things should work. Convention is vertical links first."
   ]
  },
  {
   "cell_type": "code",
   "execution_count": 16,
   "metadata": {},
   "outputs": [
    {
     "name": "stdout",
     "output_type": "stream",
     "text": [
      "g.n_edges = 128, LxLx2 = 128\n"
     ]
    }
   ],
   "source": [
    "g = nk.graph.Square(L, pbc=True)\n",
    "print(f'g.n_edges = {g.n_edges}, LxLx2 = {L**2 * 2}')\n",
    "hi = nk.hilbert.Spin(s=1/2, N=g.n_edges)"
   ]
  },
  {
   "cell_type": "markdown",
   "metadata": {},
   "source": [
    "The Z_2 gauge theory Hamiltonian is \n",
    "$$\n",
    "H = -K \\sum_{\\square} \\prod_{ij \\in \\square} \\sigma_{ij}^z - g \\prod_{ij} \\sigma_{ij}^x\n",
    "$$"
   ]
  },
  {
   "cell_type": "code",
   "execution_count": 19,
   "metadata": {},
   "outputs": [],
   "source": [
    "K = 1\n",
    "g_ham = 1\n",
    "h = 0\n",
    "edges = ordered_edges(g)\n",
    "\n",
    "for i in g.nodes(): \n",
    "\tl, r, u, d = plaquette_indices(i, L)\n",
    "\th += -K * sigmaz(hi, l) * sigmaz(hi, d) * sigmaz(hi, r) * sigmaz(hi, u)\n",
    "\n",
    "# for i in range(g.n_edges):\n",
    "    # h += -g_ham * sigmax(hi, i)\n",
    "\n",
    "# nk.exact.lanczos_ed(h, k=4)"
   ]
  },
  {
   "cell_type": "code",
   "execution_count": 20,
   "metadata": {},
   "outputs": [
    {
     "name": "stderr",
     "output_type": "stream",
     "text": [
      "100%|██████████| 10/10 [00:05<00:00,  1.71it/s, Energy=-56.52+0.00j ± 0.12 [σ²=13.71, R̂=1.2358]]\n"
     ]
    },
    {
     "data": {
      "text/plain": [
       "(RuntimeLog():\n",
       "  keys = ['Energy'],)"
      ]
     },
     "execution_count": 20,
     "metadata": {},
     "output_type": "execute_result"
    }
   ],
   "source": [
    "genn = GENN(graph=g)\n",
    "sampler = nk.sampler.MetropolisLocal(hi)\n",
    "vstate = nk.vqs.MCState(sampler, model=genn, n_samples=1008)\n",
    "optimizer = nk.optimizer.Sgd(learning_rate=0.05)\n",
    "preconditioner = nk.optimizer.SR(diag_shift=0.1, holomorphic=False)\n",
    "vmc = nk.driver.VMC(h, optimizer, variational_state=vstate, preconditioner=preconditioner)\n",
    "log = nk.logging.RuntimeLog()\n",
    "vmc.run(n_iter=10, out=log)"
   ]
  },
  {
   "cell_type": "code",
   "execution_count": 25,
   "metadata": {},
   "outputs": [
    {
     "data": {
      "text/plain": [
       "array([  3.62301587+0.j,   0.65873016+0.j,  -0.23809524+0.j,\n",
       "        -1.53174603+0.j,  -3.5952381 +0.j,  -6.49603175+0.j,\n",
       "       -14.28968254+0.j, -47.6031746 +0.j, -55.63095238+0.j,\n",
       "       -56.51984127+0.j])"
      ]
     },
     "execution_count": 25,
     "metadata": {},
     "output_type": "execute_result"
    }
   ],
   "source": [
    "log['Energy']['Mean']"
   ]
  }
 ],
 "metadata": {
  "kernelspec": {
   "display_name": "nqs",
   "language": "python",
   "name": "python3"
  },
  "language_info": {
   "codemirror_mode": {
    "name": "ipython",
    "version": 3
   },
   "file_extension": ".py",
   "mimetype": "text/x-python",
   "name": "python",
   "nbconvert_exporter": "python",
   "pygments_lexer": "ipython3",
   "version": "3.12.3"
  }
 },
 "nbformat": 4,
 "nbformat_minor": 2
}
