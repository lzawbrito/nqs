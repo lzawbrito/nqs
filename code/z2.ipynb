{
 "cells": [
  {
   "cell_type": "code",
   "execution_count": 1,
   "metadata": {},
   "outputs": [],
   "source": [
    "import netket as nk\n",
    "from netket.operator.spin import sigmax, sigmaz, sigmay\n",
    "# from src.wilson import * \n",
    "from src.models import * "
   ]
  },
  {
   "cell_type": "markdown",
   "metadata": {},
   "source": [
    "## Parameters"
   ]
  },
  {
   "cell_type": "code",
   "execution_count": 2,
   "metadata": {},
   "outputs": [],
   "source": [
    "L = 4"
   ]
  },
  {
   "cell_type": "markdown",
   "metadata": {},
   "source": [
    "note hilbert space is on edges\n",
    "there is no natural ordering to the hilbert space so we will have to impose one.\n",
    "this is specified by wilson.ordered_edges.\n",
    "as long as we respect this ordering across all implementations, things should work. Convention is vertical links first."
   ]
  },
  {
   "cell_type": "code",
   "execution_count": 3,
   "metadata": {},
   "outputs": [
    {
     "name": "stdout",
     "output_type": "stream",
     "text": [
      "g.n_edges = 32, LxLx2 = 32\n"
     ]
    }
   ],
   "source": [
    "g = nk.graph.Square(L, pbc=True)\n",
    "print(f'g.n_edges = {g.n_edges}, LxLx2 = {L**2 * 2}')\n",
    "hi = nk.hilbert.Spin(s=1/2, N=g.n_edges)"
   ]
  },
  {
   "cell_type": "markdown",
   "metadata": {},
   "source": [
    "$$\n",
    "H = -K \\sum_{\\square} \\prod_{ij \\in \\square} \\sigma_{ij}^z - g \\prod_{ij} \\sigma_{ij}^x\n",
    "$$"
   ]
  },
  {
   "cell_type": "code",
   "execution_count": 4,
   "metadata": {},
   "outputs": [
    {
     "name": "stdout",
     "output_type": "stream",
     "text": [
      "(32, 4, 4, 1)\n",
      "(32, 1, 1, 2)\n"
     ]
    },
    {
     "ename": "TypeError",
     "evalue": "can't multiply sequence by non-int of type 'complex'",
     "output_type": "error",
     "traceback": [
      "\u001b[0;31m---------------------------------------------------------------------------\u001b[0m",
      "\u001b[0;31mTypeError\u001b[0m                                 Traceback (most recent call last)",
      "Cell \u001b[0;32mIn[4], line 3\u001b[0m\n\u001b[1;32m      1\u001b[0m genn \u001b[38;5;241m=\u001b[39m GENN(graph\u001b[38;5;241m=\u001b[39mg)\n\u001b[1;32m      2\u001b[0m sampler \u001b[38;5;241m=\u001b[39m nk\u001b[38;5;241m.\u001b[39msampler\u001b[38;5;241m.\u001b[39mMetropolisLocal(hi)\n\u001b[0;32m----> 3\u001b[0m vstate \u001b[38;5;241m=\u001b[39m \u001b[43mnk\u001b[49m\u001b[38;5;241;43m.\u001b[39;49m\u001b[43mvqs\u001b[49m\u001b[38;5;241;43m.\u001b[39;49m\u001b[43mMCState\u001b[49m\u001b[43m(\u001b[49m\u001b[43msampler\u001b[49m\u001b[43m,\u001b[49m\u001b[43m \u001b[49m\u001b[43mmodel\u001b[49m\u001b[38;5;241;43m=\u001b[39;49m\u001b[43mgenn\u001b[49m\u001b[43m,\u001b[49m\u001b[43m \u001b[49m\u001b[43mn_samples\u001b[49m\u001b[38;5;241;43m=\u001b[39;49m\u001b[38;5;241;43m50\u001b[39;49m\u001b[43m)\u001b[49m\n",
      "File \u001b[0;32m~/opt/miniconda3/envs/nqs/lib/python3.12/site-packages/netket/vqs/mc/mc_state/state.py:247\u001b[0m, in \u001b[0;36mMCState.__init__\u001b[0;34m(self, sampler, model, n_samples, n_samples_per_rank, n_discard_per_chain, chunk_size, variables, init_fun, apply_fun, sample_fun, seed, sampler_seed, mutable, training_kwargs)\u001b[0m\n\u001b[1;32m    245\u001b[0m     \u001b[38;5;28mself\u001b[39m\u001b[38;5;241m.\u001b[39mvariables \u001b[38;5;241m=\u001b[39m variables\n\u001b[1;32m    246\u001b[0m \u001b[38;5;28;01melse\u001b[39;00m:\n\u001b[0;32m--> 247\u001b[0m     \u001b[38;5;28;43mself\u001b[39;49m\u001b[38;5;241;43m.\u001b[39;49m\u001b[43minit\u001b[49m\u001b[43m(\u001b[49m\u001b[43mseed\u001b[49m\u001b[43m,\u001b[49m\u001b[43m \u001b[49m\u001b[43mdtype\u001b[49m\u001b[38;5;241;43m=\u001b[39;49m\u001b[43msampler\u001b[49m\u001b[38;5;241;43m.\u001b[39;49m\u001b[43mdtype\u001b[49m\u001b[43m)\u001b[49m\n\u001b[1;32m    249\u001b[0m \u001b[38;5;28;01mif\u001b[39;00m sampler_seed \u001b[38;5;129;01mis\u001b[39;00m \u001b[38;5;28;01mNone\u001b[39;00m \u001b[38;5;129;01mand\u001b[39;00m seed \u001b[38;5;129;01mis\u001b[39;00m \u001b[38;5;129;01mnot\u001b[39;00m \u001b[38;5;28;01mNone\u001b[39;00m:\n\u001b[1;32m    250\u001b[0m     key, key2 \u001b[38;5;241m=\u001b[39m jax\u001b[38;5;241m.\u001b[39mrandom\u001b[38;5;241m.\u001b[39msplit(nkjax\u001b[38;5;241m.\u001b[39mPRNGKey(seed), \u001b[38;5;241m2\u001b[39m)\n",
      "File \u001b[0;32m~/opt/miniconda3/envs/nqs/lib/python3.12/site-packages/netket/vqs/mc/mc_state/state.py:282\u001b[0m, in \u001b[0;36mMCState.init\u001b[0;34m(self, seed, dtype)\u001b[0m\n\u001b[1;32m    278\u001b[0m key \u001b[38;5;241m=\u001b[39m nkjax\u001b[38;5;241m.\u001b[39mPRNGKey(seed)\n\u001b[1;32m    280\u001b[0m dummy_input \u001b[38;5;241m=\u001b[39m jnp\u001b[38;5;241m.\u001b[39mzeros((\u001b[38;5;241m1\u001b[39m, \u001b[38;5;28mself\u001b[39m\u001b[38;5;241m.\u001b[39mhilbert\u001b[38;5;241m.\u001b[39msize), dtype\u001b[38;5;241m=\u001b[39mdtype)\n\u001b[0;32m--> 282\u001b[0m variables \u001b[38;5;241m=\u001b[39m \u001b[43mjit_evaluate\u001b[49m\u001b[43m(\u001b[49m\u001b[38;5;28;43mself\u001b[39;49m\u001b[38;5;241;43m.\u001b[39;49m\u001b[43m_init_fun\u001b[49m\u001b[43m,\u001b[49m\u001b[43m \u001b[49m\u001b[43m{\u001b[49m\u001b[38;5;124;43m\"\u001b[39;49m\u001b[38;5;124;43mparams\u001b[39;49m\u001b[38;5;124;43m\"\u001b[39;49m\u001b[43m:\u001b[49m\u001b[43m \u001b[49m\u001b[43mkey\u001b[49m\u001b[43m}\u001b[49m\u001b[43m,\u001b[49m\u001b[43m \u001b[49m\u001b[43mdummy_input\u001b[49m\u001b[43m)\u001b[49m\n\u001b[1;32m    283\u001b[0m \u001b[38;5;28mself\u001b[39m\u001b[38;5;241m.\u001b[39mvariables \u001b[38;5;241m=\u001b[39m variables\n",
      "    \u001b[0;31m[... skipping hidden 11 frame]\u001b[0m\n",
      "File \u001b[0;32m~/opt/miniconda3/envs/nqs/lib/python3.12/site-packages/netket/vqs/mc/mc_state/state.py:96\u001b[0m, in \u001b[0;36mjit_evaluate\u001b[0;34m(fun, *args)\u001b[0m\n\u001b[1;32m     87\u001b[0m \u001b[38;5;129m@partial\u001b[39m(jax\u001b[38;5;241m.\u001b[39mjit, static_argnums\u001b[38;5;241m=\u001b[39m\u001b[38;5;241m0\u001b[39m)\n\u001b[1;32m     88\u001b[0m \u001b[38;5;28;01mdef\u001b[39;00m \u001b[38;5;21mjit_evaluate\u001b[39m(fun: Callable, \u001b[38;5;241m*\u001b[39margs):\n\u001b[1;32m     89\u001b[0m \u001b[38;5;250m    \u001b[39m\u001b[38;5;124;03m\"\"\"\u001b[39;00m\n\u001b[1;32m     90\u001b[0m \u001b[38;5;124;03m    call `fun(*args)` inside of a `jax.jit` frame.\u001b[39;00m\n\u001b[1;32m     91\u001b[0m \n\u001b[0;32m   (...)\u001b[0m\n\u001b[1;32m     94\u001b[0m \u001b[38;5;124;03m        args: the arguments to the function.\u001b[39;00m\n\u001b[1;32m     95\u001b[0m \u001b[38;5;124;03m    \"\"\"\u001b[39;00m\n\u001b[0;32m---> 96\u001b[0m     \u001b[38;5;28;01mreturn\u001b[39;00m \u001b[43mfun\u001b[49m\u001b[43m(\u001b[49m\u001b[38;5;241;43m*\u001b[39;49m\u001b[43margs\u001b[49m\u001b[43m)\u001b[49m\n",
      "File \u001b[0;32m~/opt/miniconda3/envs/nqs/lib/python3.12/site-packages/netket/vqs/mc/mc_state/state.py:198\u001b[0m, in \u001b[0;36mMCState.__init__.<locals>.<lambda>\u001b[0;34m(model, *args, **kwargs)\u001b[0m\n\u001b[1;32m    193\u001b[0m     _, model \u001b[38;5;241m=\u001b[39m maybe_wrap_module(model)\n\u001b[1;32m    195\u001b[0m     \u001b[38;5;28mself\u001b[39m\u001b[38;5;241m.\u001b[39m_model \u001b[38;5;241m=\u001b[39m model\n\u001b[1;32m    197\u001b[0m     \u001b[38;5;28mself\u001b[39m\u001b[38;5;241m.\u001b[39m_init_fun \u001b[38;5;241m=\u001b[39m nkjax\u001b[38;5;241m.\u001b[39mHashablePartial(\n\u001b[0;32m--> 198\u001b[0m         \u001b[38;5;28;01mlambda\u001b[39;00m model, \u001b[38;5;241m*\u001b[39margs, \u001b[38;5;241m*\u001b[39m\u001b[38;5;241m*\u001b[39mkwargs: \u001b[43mmodel\u001b[49m\u001b[38;5;241;43m.\u001b[39;49m\u001b[43minit\u001b[49m\u001b[43m(\u001b[49m\u001b[38;5;241;43m*\u001b[39;49m\u001b[43margs\u001b[49m\u001b[43m,\u001b[49m\u001b[43m \u001b[49m\u001b[38;5;241;43m*\u001b[39;49m\u001b[38;5;241;43m*\u001b[39;49m\u001b[43mkwargs\u001b[49m\u001b[43m)\u001b[49m, model\n\u001b[1;32m    199\u001b[0m     )\n\u001b[1;32m    200\u001b[0m     \u001b[38;5;28mself\u001b[39m\u001b[38;5;241m.\u001b[39m_apply_fun \u001b[38;5;241m=\u001b[39m wrap_to_support_scalar(\n\u001b[1;32m    201\u001b[0m         nkjax\u001b[38;5;241m.\u001b[39mHashablePartial(\n\u001b[1;32m    202\u001b[0m             \u001b[38;5;28;01mlambda\u001b[39;00m model, pars, x, \u001b[38;5;241m*\u001b[39m\u001b[38;5;241m*\u001b[39mkwargs: model\u001b[38;5;241m.\u001b[39mapply(pars, x, \u001b[38;5;241m*\u001b[39m\u001b[38;5;241m*\u001b[39mkwargs),\n\u001b[1;32m    203\u001b[0m             model,\n\u001b[1;32m    204\u001b[0m         )\n\u001b[1;32m    205\u001b[0m     )\n\u001b[1;32m    207\u001b[0m \u001b[38;5;28;01melif\u001b[39;00m apply_fun \u001b[38;5;129;01mis\u001b[39;00m \u001b[38;5;129;01mnot\u001b[39;00m \u001b[38;5;28;01mNone\u001b[39;00m:\n",
      "    \u001b[0;31m[... skipping hidden 9 frame]\u001b[0m\n",
      "File \u001b[0;32m~/Library/CloudStorage/OneDrive-Personal/school/CSCI2470/nqs/code/src/models.py:96\u001b[0m, in \u001b[0;36mGENN.__call__\u001b[0;34m(self, x)\u001b[0m\n\u001b[1;32m     94\u001b[0m w_loops \u001b[38;5;241m=\u001b[39m np\u001b[38;5;241m.\u001b[39mexpand_dims(w_loops\u001b[38;5;241m.\u001b[39mreshape(\u001b[38;5;241m-\u001b[39m\u001b[38;5;241m1\u001b[39m, \u001b[38;5;28mself\u001b[39m\u001b[38;5;241m.\u001b[39mL, \u001b[38;5;28mself\u001b[39m\u001b[38;5;241m.\u001b[39mL), \u001b[38;5;241m-\u001b[39m\u001b[38;5;241m1\u001b[39m)\n\u001b[1;32m     95\u001b[0m \u001b[38;5;28mprint\u001b[39m(w_loops\u001b[38;5;241m.\u001b[39mshape)\n\u001b[0;32m---> 96\u001b[0m out \u001b[38;5;241m=\u001b[39m \u001b[43mInvariantCNN\u001b[49m\u001b[43m(\u001b[49m\u001b[43mL\u001b[49m\u001b[38;5;241;43m=\u001b[39;49m\u001b[38;5;28;43mself\u001b[39;49m\u001b[38;5;241;43m.\u001b[39;49m\u001b[43mL\u001b[49m\u001b[43m)\u001b[49m\u001b[43m(\u001b[49m\u001b[43mw_loops\u001b[49m\u001b[43m)\u001b[49m\n\u001b[1;32m     98\u001b[0m \u001b[38;5;28;01mreturn\u001b[39;00m out\n",
      "    \u001b[0;31m[... skipping hidden 2 frame]\u001b[0m\n",
      "File \u001b[0;32m~/Library/CloudStorage/OneDrive-Personal/school/CSCI2470/nqs/code/src/models.py:58\u001b[0m, in \u001b[0;36mInvariantCNN.__call__\u001b[0;34m(self, x)\u001b[0m\n\u001b[1;32m     56\u001b[0m out2 \u001b[38;5;241m=\u001b[39m np\u001b[38;5;241m.\u001b[39mpi \u001b[38;5;241m*\u001b[39m nn\u001b[38;5;241m.\u001b[39msoft_sign(nn\u001b[38;5;241m.\u001b[39mavg_pool(w_loops, window_shape\u001b[38;5;241m=\u001b[39m(\u001b[38;5;241m1\u001b[39m, \u001b[38;5;28mself\u001b[39m\u001b[38;5;241m.\u001b[39mL, \u001b[38;5;28mself\u001b[39m\u001b[38;5;241m.\u001b[39mL))),\n\u001b[1;32m     57\u001b[0m \u001b[38;5;28mprint\u001b[39m(out1\u001b[38;5;241m.\u001b[39mshape)\n\u001b[0;32m---> 58\u001b[0m \u001b[38;5;28;01mreturn\u001b[39;00m out1 \u001b[38;5;241m+\u001b[39m \u001b[38;5;241;43m1\u001b[39;49m\u001b[43mj\u001b[49m\u001b[43m \u001b[49m\u001b[38;5;241;43m*\u001b[39;49m\u001b[43m \u001b[49m\u001b[43mout2\u001b[49m\n",
      "\u001b[0;31mTypeError\u001b[0m: can't multiply sequence by non-int of type 'complex'"
     ]
    }
   ],
   "source": [
    "genn = GENN(graph=g)\n",
    "sampler = nk.sampler.MetropolisLocal(hi)\n",
    "vstate = nk.vqs.MCState(sampler, model=genn, n_samples=50)"
   ]
  }
 ],
 "metadata": {
  "kernelspec": {
   "display_name": "nqs",
   "language": "python",
   "name": "python3"
  },
  "language_info": {
   "codemirror_mode": {
    "name": "ipython",
    "version": 3
   },
   "file_extension": ".py",
   "mimetype": "text/x-python",
   "name": "python",
   "nbconvert_exporter": "python",
   "pygments_lexer": "ipython3",
   "version": "3.11.1"
  }
 },
 "nbformat": 4,
 "nbformat_minor": 2
}
