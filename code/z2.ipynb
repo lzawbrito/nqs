{
 "cells": [
  {
   "cell_type": "code",
   "execution_count": 71,
   "metadata": {},
   "outputs": [],
   "source": [
    "import os\n",
    "import netket as nk\n",
    "from netket.operator.spin import sigmax, sigmaz, sigmay\n",
    "# from src.wilson import * \n",
    "from src.models import * \n",
    "import matplotlib.pyplot as plt\n",
    "nk.config.netket_debug = True\n",
    "import numpy as np"
   ]
  },
  {
   "cell_type": "markdown",
   "metadata": {},
   "source": [
    "## Parameters"
   ]
  },
  {
   "cell_type": "code",
   "execution_count": 38,
   "metadata": {},
   "outputs": [],
   "source": [
    "L = 3"
   ]
  },
  {
   "cell_type": "markdown",
   "metadata": {},
   "source": [
    "note hilbert space is on edges\n",
    "there is no natural ordering to the hilbert space so we will have to impose one.\n",
    "this is specified by wilson.ordered_edges.\n",
    "as long as we respect this ordering across all implementations, things should work. Convention is vertical links first."
   ]
  },
  {
   "cell_type": "code",
   "execution_count": 48,
   "metadata": {},
   "outputs": [
    {
     "name": "stdout",
     "output_type": "stream",
     "text": [
      "g.n_edges = 18, LxLx2 = 18\n"
     ]
    }
   ],
   "source": [
    "g = nk.graph.Square(L, pbc=True)\n",
    "print(f'g.n_edges = {g.n_edges}, LxLx2 = {L**2 * 2}')\n",
    "hi = nk.hilbert.Spin(s=1/2, N=g.n_edges)"
   ]
  },
  {
   "cell_type": "markdown",
   "metadata": {},
   "source": [
    "The Z_2 gauge theory Hamiltonian is \n",
    "$$\n",
    "H = -K \\sum_{\\square} \\prod_{ij \\in \\square} \\sigma_{ij}^z - g \\prod_{ij} \\sigma_{ij}^x\n",
    "$$"
   ]
  },
  {
   "cell_type": "code",
   "execution_count": 52,
   "metadata": {},
   "outputs": [],
   "source": [
    "def z2_hamiltonian(theta, g):\n",
    "\th = 0\n",
    "\tedges = ordered_edges(g)\n",
    "\n",
    "\tfor i in g.nodes(): \n",
    "\t\tl, r, u, d = plaquette_indices(i, L)\n",
    "\t\th += - np.cos(theta) * sigmaz(hi, l) * sigmaz(hi, d) * sigmaz(hi, r) * sigmaz(hi, u)\n",
    "\n",
    "\tfor i in range(g.n_edges):\n",
    "\t\th += - np.sin(theta) * sigmax(hi, i)\n",
    "\n",
    "\treturn h"
   ]
  },
  {
   "cell_type": "markdown",
   "metadata": {},
   "source": [
    "## Vary parameters and verify against ED "
   ]
  },
  {
   "cell_type": "code",
   "execution_count": 80,
   "metadata": {},
   "outputs": [
    {
     "name": "stdout",
     "output_type": "stream",
     "text": [
      "1/10\n",
      "exact energy:\t[-9.]\n"
     ]
    },
    {
     "name": "stderr",
     "output_type": "stream",
     "text": [
      "100%|██████████| 500/500 [00:09<00:00, 51.03it/s, Energy=-9.000e+00+0.000e+00j ± nan [σ²=0.000e+00]]     \n"
     ]
    },
    {
     "name": "stdout",
     "output_type": "stream",
     "text": [
      "2/10\n",
      "exact energy:\t[-9.02006245]\n"
     ]
    },
    {
     "name": "stderr",
     "output_type": "stream",
     "text": [
      "100%|██████████| 500/500 [00:15<00:00, 32.97it/s, Energy=-8.993+0.001j ± 0.016 [σ²=0.247, R̂=1.0116]]               \n"
     ]
    },
    {
     "name": "stdout",
     "output_type": "stream",
     "text": [
      "3/10\n",
      "exact energy:\t[-9.34285914]\n"
     ]
    },
    {
     "name": "stderr",
     "output_type": "stream",
     "text": [
      "100%|██████████| 500/500 [00:17<00:00, 29.08it/s, Energy=-9.218+0.000j ± 0.021 [σ²=0.449, R̂=1.0177]]\n"
     ]
    },
    {
     "name": "stdout",
     "output_type": "stream",
     "text": [
      "4/10\n",
      "exact energy:\t[-10.72995407]\n"
     ]
    },
    {
     "name": "stderr",
     "output_type": "stream",
     "text": [
      "100%|██████████| 500/500 [00:13<00:00, 38.16it/s, Energy=-10.704+0.000j ± 0.010 [σ²=0.103, R̂=1.0080]]    \n"
     ]
    },
    {
     "name": "stdout",
     "output_type": "stream",
     "text": [
      "5/10\n",
      "exact energy:\t[-12.60604024]\n"
     ]
    },
    {
     "name": "stderr",
     "output_type": "stream",
     "text": [
      "100%|██████████| 500/500 [00:14<00:00, 34.41it/s, Energy=-12.6085+0.0001j ± 0.0059 [σ²=0.0350, R̂=1.0015]]\n"
     ]
    },
    {
     "name": "stdout",
     "output_type": "stream",
     "text": [
      "6/10\n",
      "exact energy:\t[-14.39791744]\n"
     ]
    },
    {
     "name": "stderr",
     "output_type": "stream",
     "text": [
      "100%|██████████| 500/500 [00:14<00:00, 35.59it/s, Energy=-14.3941-0.0000j ± 0.0033 [σ²=0.0109, R̂=1.0067]]\n"
     ]
    },
    {
     "name": "stdout",
     "output_type": "stream",
     "text": [
      "7/10\n",
      "exact energy:\t[-15.91379029]\n"
     ]
    },
    {
     "name": "stderr",
     "output_type": "stream",
     "text": [
      "100%|██████████| 500/500 [00:13<00:00, 38.30it/s, Energy=-15.9155-0.0000j ± 0.0018 [σ²=0.0033, R̂=1.0001]]\n"
     ]
    },
    {
     "name": "stdout",
     "output_type": "stream",
     "text": [
      "8/10\n",
      "exact energy:\t[-17.05461016]\n"
     ]
    },
    {
     "name": "stderr",
     "output_type": "stream",
     "text": [
      "100%|██████████| 500/500 [00:13<00:00, 37.79it/s, Energy=-17.05388+0.00000j ± 0.00076 [σ²=0.00059, R̂=1.0118]]\n"
     ]
    },
    {
     "name": "stdout",
     "output_type": "stream",
     "text": [
      "9/10\n",
      "exact energy:\t[-17.76099136]\n"
     ]
    },
    {
     "name": "stderr",
     "output_type": "stream",
     "text": [
      "100%|██████████| 500/500 [00:13<00:00, 38.42it/s, Energy=-17.76060+0.00000j ± 0.00035 [σ²=0.00012, R̂=1.0016]]\n"
     ]
    },
    {
     "name": "stdout",
     "output_type": "stream",
     "text": [
      "10/10\n",
      "exact energy:\t[-18.]\n"
     ]
    },
    {
     "name": "stderr",
     "output_type": "stream",
     "text": [
      "100%|██████████| 500/500 [00:12<00:00, 39.47it/s, Energy=-18.000010-0.000009j ± 0.000013 [σ²=0.000000, R̂=1.0058]]\n"
     ]
    }
   ],
   "source": [
    "thetas = np.linspace(0, np.pi/2, 10)\n",
    "exact_energies = [] \n",
    "genn_energies = []\n",
    "genn_energies_var = []\n",
    "\n",
    "i = 1\n",
    "for theta in thetas:\n",
    "\tprint(f'{i}/{len(thetas)}')\n",
    "\n",
    "\th = z2_hamiltonian(theta, g)\n",
    "\texact_energy = nk.exact.lanczos_ed(h)\n",
    "\tprint(f'exact energy:\\t{exact_energy}')\n",
    "\n",
    "\tgenn = GENN(graph=g)\n",
    "\tsampler = nk.sampler.MetropolisLocal(hi)\n",
    "\tvstate = nk.vqs.MCState(sampler, model=genn, n_samples=1008)\n",
    "\toptimizer = nk.optimizer.Sgd(learning_rate=0.05)\n",
    "\tpreconditioner = nk.optimizer.SR(diag_shift=0.1, holomorphic=False)\n",
    "\tvmc = nk.driver.VMC(h, optimizer, variational_state=vstate, preconditioner=preconditioner)\n",
    "\tlog = nk.logging.RuntimeLog()\n",
    "\tvmc.run(n_iter=500, out=log)\n",
    "\t\n",
    "\tgenn_energy = vstate.expect(h)\n",
    "\t\n",
    "\texact_energies.append(exact_energy)\n",
    "\tgenn_energies.append(genn_energy.mean.real)\n",
    "\tgenn_energies_var.append(genn_energy.variance)\n",
    "\ti += 1"
   ]
  },
  {
   "cell_type": "code",
   "execution_count": 82,
   "metadata": {},
   "outputs": [],
   "source": [
    "genn_energies = np.array(genn_energies)\n",
    "genn_energies_var = np.array(genn_energies_var)\n",
    "thetas = np.array(thetas)\n",
    "exact_energies = np.array(exact_energies)"
   ]
  },
  {
   "cell_type": "code",
   "execution_count": 83,
   "metadata": {},
   "outputs": [],
   "source": [
    "np.savetxt(f'../data/z2_varying_h_{L}x{L}.txt', np.column_stack((thetas, exact_energies, genn_energies, genn_energies_var)))"
   ]
  },
  {
   "cell_type": "markdown",
   "metadata": {},
   "source": [
    "## Confining Phase Transition"
   ]
  },
  {
   "cell_type": "code",
   "execution_count": 85,
   "metadata": {},
   "outputs": [],
   "source": [
    "L = 8"
   ]
  },
  {
   "cell_type": "code",
   "execution_count": null,
   "metadata": {},
   "outputs": [],
   "source": [
    "g = nk.graph.Square(L, pbc=True)\n",
    "print(f'g.n_edges = {g.n_edges}, LxLx2 = {L**2 * 2}')\n",
    "hi = nk.hilbert.Spin(s=1/2, N=g.n_edges)"
   ]
  },
  {
   "cell_type": "code",
   "execution_count": null,
   "metadata": {},
   "outputs": [],
   "source": [
    "def wilson_loop:"
   ]
  },
  {
   "cell_type": "code",
   "execution_count": null,
   "metadata": {},
   "outputs": [],
   "source": [
    "h = z2_hamiltonian(theta, g)\n",
    "\n",
    "genn = GENN(graph=g)\n",
    "sampler = nk.sampler.MetropolisLocal(hi)\n",
    "vstate = nk.vqs.MCState(sampler, model=genn, n_samples=1008)\n",
    "optimizer = nk.optimizer.Sgd(learning_rate=0.05)\n",
    "preconditioner = nk.optimizer.SR(diag_shift=0.1, holomorphic=False)\n",
    "vmc = nk.driver.VMC(h, optimizer, variational_state=vstate, preconditioner=preconditioner)\n",
    "log = nk.logging.RuntimeLog()\n",
    "vmc.run(n_iter=500, out=log)"
   ]
  }
 ],
 "metadata": {
  "kernelspec": {
   "display_name": "nqs",
   "language": "python",
   "name": "python3"
  },
  "language_info": {
   "codemirror_mode": {
    "name": "ipython",
    "version": 3
   },
   "file_extension": ".py",
   "mimetype": "text/x-python",
   "name": "python",
   "nbconvert_exporter": "python",
   "pygments_lexer": "ipython3",
   "version": "3.12.3"
  }
 },
 "nbformat": 4,
 "nbformat_minor": 2
}
