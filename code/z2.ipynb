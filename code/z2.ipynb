{
 "cells": [
  {
   "cell_type": "code",
   "execution_count": 1,
   "metadata": {},
   "outputs": [],
   "source": [
    "import os\n",
    "import netket as nk\n",
    "from netket.operator.spin import sigmax, sigmaz, sigmay\n",
    "# from src.wilson import * \n",
    "from src.models import * \n",
    "nk.config.netket_debug = True"
   ]
  },
  {
   "cell_type": "markdown",
   "metadata": {},
   "source": [
    "## Parameters"
   ]
  },
  {
   "cell_type": "code",
   "execution_count": 2,
   "metadata": {},
   "outputs": [],
   "source": [
    "L = 8"
   ]
  },
  {
   "cell_type": "markdown",
   "metadata": {},
   "source": [
    "note hilbert space is on edges\n",
    "there is no natural ordering to the hilbert space so we will have to impose one.\n",
    "this is specified by wilson.ordered_edges.\n",
    "as long as we respect this ordering across all implementations, things should work. Convention is vertical links first."
   ]
  },
  {
   "cell_type": "code",
   "execution_count": 3,
   "metadata": {},
   "outputs": [
    {
     "name": "stdout",
     "output_type": "stream",
     "text": [
      "g.n_edges = 128, LxLx2 = 128\n"
     ]
    }
   ],
   "source": [
    "g = nk.graph.Square(L, pbc=True)\n",
    "print(f'g.n_edges = {g.n_edges}, LxLx2 = {L**2 * 2}')\n",
    "hi = nk.hilbert.Spin(s=1/2, N=g.n_edges)"
   ]
  },
  {
   "cell_type": "markdown",
   "metadata": {},
   "source": [
    "The Z_2 gauge theory Hamiltonian is \n",
    "$$\n",
    "H = -K \\sum_{\\square} \\prod_{ij \\in \\square} \\sigma_{ij}^z - g \\prod_{ij} \\sigma_{ij}^x\n",
    "$$"
   ]
  },
  {
   "cell_type": "code",
   "execution_count": 4,
   "metadata": {},
   "outputs": [],
   "source": [
    "K = 1\n",
    "g_ham = 1\n",
    "h = 0\n",
    "edges = ordered_edges(g)\n",
    "\n",
    "for i in g.nodes(): \n",
    "\tl, r, u, d = plaquette_indices(i, L)\n",
    "\th += -K * sigmaz(hi, l) * sigmaz(hi, d) * sigmaz(hi, r) * sigmaz(hi, u)\n",
    "\n",
    "# for i in range(g.n_nodes):\n",
    "#     h += -g_ham * nk.operator.spin.sigmax(hi, i)\n",
    "\n",
    "# nk.exact.lanczos_ed(h, k=4)"
   ]
  },
  {
   "cell_type": "code",
   "execution_count": 5,
   "metadata": {},
   "outputs": [
    {
     "name": "stdout",
     "output_type": "stream",
     "text": [
      "(1, 64)\n"
     ]
    },
    {
     "name": "stderr",
     "output_type": "stream",
     "text": [
      "  0%|          | 0/10 [00:00<?, ?it/s]"
     ]
    },
    {
     "name": "stdout",
     "output_type": "stream",
     "text": [
      "(16, 64)\n",
      "(16, 64)\n",
      "(16, 64)\n",
      "(16, 64)\n",
      "(1, 64)\n",
      "(1, 64)\n",
      "(1008, 64)\n",
      "(1008, 64)\n",
      "(1008, 64)\n",
      "(1008, 64)\n",
      "(1008, 64)\n"
     ]
    },
    {
     "name": "stderr",
     "output_type": "stream",
     "text": [
      "100%|██████████| 10/10 [00:06<00:00,  1.57it/s, Energy=-63.270+0.000j ± 0.050 [σ²=2.483, R̂=1.2763]]\n"
     ]
    },
    {
     "data": {
      "text/plain": [
       "(RuntimeLog():\n",
       "  keys = ['Energy'],)"
      ]
     },
     "execution_count": 5,
     "metadata": {},
     "output_type": "execute_result"
    }
   ],
   "source": [
    "genn = GENN(graph=g)\n",
    "sampler = nk.sampler.MetropolisLocal(hi)\n",
    "vstate = nk.vqs.MCState(sampler, model=genn, n_samples=1008)\n",
    "optimizer = nk.optimizer.Sgd(learning_rate=0.05)\n",
    "preconditioner = nk.optimizer.SR(diag_shift=0.1, holomorphic=False)\n",
    "vmc = nk.driver.VMC(h, optimizer, variational_state=vstate, preconditioner=preconditioner)\n",
    "log = nk.logging.RuntimeLog()\n",
    "vmc.run(n_iter=10, out=log)"
   ]
  }
 ],
 "metadata": {
  "kernelspec": {
   "display_name": "nqs",
   "language": "python",
   "name": "python3"
  },
  "language_info": {
   "codemirror_mode": {
    "name": "ipython",
    "version": 3
   },
   "file_extension": ".py",
   "mimetype": "text/x-python",
   "name": "python",
   "nbconvert_exporter": "python",
   "pygments_lexer": "ipython3",
   "version": "3.12.3"
  }
 },
 "nbformat": 4,
 "nbformat_minor": 2
}
