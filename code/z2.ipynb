{
 "cells": [
  {
   "cell_type": "code",
   "execution_count": 14,
   "metadata": {},
   "outputs": [],
   "source": [
    "import netket as nk\n",
    "from netket.operator.spin import sigmax, sigmaz, sigmay"
   ]
  },
  {
   "cell_type": "markdown",
   "metadata": {},
   "source": [
    "## Parameters"
   ]
  },
  {
   "cell_type": "code",
   "execution_count": 15,
   "metadata": {},
   "outputs": [],
   "source": [
    "L = 6"
   ]
  },
  {
   "cell_type": "code",
   "execution_count": 17,
   "metadata": {},
   "outputs": [
    {
     "name": "stdout",
     "output_type": "stream",
     "text": [
      "g.n_edges = 72, LxLx2 = 72\n"
     ]
    }
   ],
   "source": [
    "g = nk.graph.Square(L, pbc=True)\n",
    "print(f'g.n_edges = {g.n_edges}, LxLx2 = {L**2 * 2}')\n",
    "hi = nk.hilbert.Spin(s=1/2, N=g.n_edges) # note hilbert space is on edges"
   ]
  },
  {
   "cell_type": "markdown",
   "metadata": {},
   "source": [
    "$$\n",
    "H = -K \\sum_{\\square} \\prod_{ij \\in \\square} \\sigma_{ij}^z - g \\prod_{ij} \\sigma_{ij}^x\n",
    "$$"
   ]
  },
  {
   "cell_type": "code",
   "execution_count": 25,
   "metadata": {},
   "outputs": [
    {
     "data": {
      "text/plain": [
       "[(6, 12),\n",
       " (0, 30),\n",
       " (15, 21),\n",
       " (24, 30),\n",
       " (1, 31),\n",
       " (3, 4),\n",
       " (18, 23),\n",
       " (26, 27),\n",
       " (16, 17),\n",
       " (12, 13),\n",
       " (21, 22),\n",
       " (20, 26),\n",
       " (31, 32),\n",
       " (22, 23),\n",
       " (29, 35),\n",
       " (8, 9),\n",
       " (0, 5),\n",
       " (27, 28),\n",
       " (25, 26),\n",
       " (2, 8),\n",
       " (11, 17),\n",
       " (13, 14),\n",
       " (6, 11),\n",
       " (32, 33),\n",
       " (7, 13),\n",
       " (16, 22),\n",
       " (18, 19),\n",
       " (24, 29),\n",
       " (2, 32),\n",
       " (4, 5),\n",
       " (25, 31),\n",
       " (3, 9),\n",
       " (26, 32),\n",
       " (12, 18),\n",
       " (14, 15),\n",
       " (21, 27),\n",
       " (22, 28),\n",
       " (0, 1),\n",
       " (9, 10),\n",
       " (8, 14),\n",
       " (1, 2),\n",
       " (10, 11),\n",
       " (17, 23),\n",
       " (3, 33),\n",
       " (19, 20),\n",
       " (28, 29),\n",
       " (27, 33),\n",
       " (30, 35),\n",
       " (6, 7),\n",
       " (13, 19),\n",
       " (15, 16),\n",
       " (24, 25),\n",
       " (33, 34),\n",
       " (18, 24),\n",
       " (20, 21),\n",
       " (4, 10),\n",
       " (12, 17),\n",
       " (5, 11),\n",
       " (14, 20),\n",
       " (23, 29),\n",
       " (34, 35),\n",
       " (0, 6),\n",
       " (2, 3),\n",
       " (9, 15),\n",
       " (1, 7),\n",
       " (4, 34),\n",
       " (10, 16),\n",
       " (19, 25),\n",
       " (5, 35),\n",
       " (28, 34),\n",
       " (30, 31),\n",
       " (7, 8)]"
      ]
     },
     "execution_count": 25,
     "metadata": {},
     "output_type": "execute_result"
    }
   ],
   "source": [
    "g.edges()"
   ]
  },
  {
   "cell_type": "markdown",
   "metadata": {},
   "source": [
    "Equivariant layer: Two channels (I think for 2 valued dof), stride 1 CNN with leaky relu then wilson path pointwise multiplication, and skip connection.\n",
    "Invariant layer: two channels, stride 1,. \n",
    "Network with equivariant layer tends to do better."
   ]
  }
 ],
 "metadata": {
  "kernelspec": {
   "display_name": "nqs",
   "language": "python",
   "name": "python3"
  },
  "language_info": {
   "codemirror_mode": {
    "name": "ipython",
    "version": 3
   },
   "file_extension": ".py",
   "mimetype": "text/x-python",
   "name": "python",
   "nbconvert_exporter": "python",
   "pygments_lexer": "ipython3",
   "version": "3.12.3"
  }
 },
 "nbformat": 4,
 "nbformat_minor": 2
}
