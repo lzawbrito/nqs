{
 "cells": [
  {
   "cell_type": "code",
   "execution_count": 1,
   "metadata": {},
   "outputs": [],
   "source": [
    "import netket as nk\n",
    "from netket.operator.spin import sigmax, sigmaz, sigmay\n",
    "from src.wilson import * "
   ]
  },
  {
   "cell_type": "markdown",
   "metadata": {},
   "source": [
    "## Parameters"
   ]
  },
  {
   "cell_type": "code",
   "execution_count": 2,
   "metadata": {},
   "outputs": [],
   "source": [
    "L = 4"
   ]
  },
  {
   "cell_type": "code",
   "execution_count": 3,
   "metadata": {},
   "outputs": [
    {
     "name": "stdout",
     "output_type": "stream",
     "text": [
      "g.n_edges = 32, LxLx2 = 32\n"
     ]
    }
   ],
   "source": [
    "g = nk.graph.Square(L, pbc=True)\n",
    "print(f'g.n_edges = {g.n_edges}, LxLx2 = {L**2 * 2}')\n",
    "hi = nk.hilbert.Spin(s=1/2, N=g.n_edges) # note hilbert space is on edges\n",
    "# there is no natural ordering to the hilbert space so we will have to impose one.\n",
    "# this is specified by wilson.ordered_edges.\n",
    "# as long as we respect this ordering across all implementations, things should work"
   ]
  },
  {
   "cell_type": "markdown",
   "metadata": {},
   "source": [
    "$$\n",
    "H = -K \\sum_{\\square} \\prod_{ij \\in \\square} \\sigma_{ij}^z - g \\prod_{ij} \\sigma_{ij}^x\n",
    "$$"
   ]
  },
  {
   "cell_type": "code",
   "execution_count": 4,
   "metadata": {},
   "outputs": [
    {
     "data": {
      "text/plain": [
       "[(3, 7),\n",
       " (12, 13),\n",
       " (8, 9),\n",
       " (8, 12),\n",
       " (2, 14),\n",
       " (13, 14),\n",
       " (4, 5),\n",
       " (5, 6),\n",
       " (4, 8),\n",
       " (12, 15),\n",
       " (5, 9),\n",
       " (14, 15),\n",
       " (3, 15),\n",
       " (8, 11),\n",
       " (0, 1),\n",
       " (9, 10),\n",
       " (1, 2),\n",
       " (0, 4),\n",
       " (9, 13),\n",
       " (10, 11),\n",
       " (1, 5),\n",
       " (10, 14),\n",
       " (6, 7),\n",
       " (6, 10),\n",
       " (4, 7),\n",
       " (0, 3),\n",
       " (0, 12),\n",
       " (2, 3),\n",
       " (1, 13),\n",
       " (2, 6),\n",
       " (11, 15),\n",
       " (7, 11)]"
      ]
     },
     "execution_count": 4,
     "metadata": {},
     "output_type": "execute_result"
    }
   ],
   "source": [
    "g.edges()"
   ]
  },
  {
   "cell_type": "code",
   "execution_count": 13,
   "metadata": {},
   "outputs": [
    {
     "data": {
      "text/plain": [
       "((15, 3), (0, 1), (15, 12), (3, 7))"
      ]
     },
     "execution_count": 13,
     "metadata": {},
     "output_type": "execute_result"
    }
   ],
   "source": [
    "ord_edges = ordered_edges(g)\n",
    "i = 15\n",
    "ord_edges[i + L**2], ord_edges[i]\n",
    "# missing_edges = []\n",
    "# for e in g.edges():\n",
    "# \tif not (e in ord_edges or (e[1], e[0]) in ord_edges):\n",
    "# \t\tmissing_edges.append(e)\n",
    "# missing_edges\n",
    "# print(ord_edges)\n",
    "# (i + 1) % (L-1)\n",
    "\n",
    "left = ord_edges[i] \n",
    "right = ord_edges[i + 1]\n",
    "upper = ord_edges[i + L**2]\n",
    "lower = ord_edges[(i + L**2 + L) % (L**2)] # <--- this goes out of range\n",
    "left, right, upper, lower"
   ]
  },
  {
   "cell_type": "markdown",
   "metadata": {},
   "source": [
    "Equivariant layer: Two channels (I think for 2 valued dof), stride 1 CNN with leaky relu then wilson path pointwise multiplication, and skip connection.\n",
    "Invariant layer: two channels, stride 1,. \n",
    "Network with equivariant layer tends to do better."
   ]
  }
 ],
 "metadata": {
  "kernelspec": {
   "display_name": "nqs",
   "language": "python",
   "name": "python3"
  },
  "language_info": {
   "codemirror_mode": {
    "name": "ipython",
    "version": 3
   },
   "file_extension": ".py",
   "mimetype": "text/x-python",
   "name": "python",
   "nbconvert_exporter": "python",
   "pygments_lexer": "ipython3",
   "version": "3.12.3"
  }
 },
 "nbformat": 4,
 "nbformat_minor": 2
}
