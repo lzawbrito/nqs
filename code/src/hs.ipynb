{
 "cells": [
  {
   "cell_type": "markdown",
   "metadata": {},
   "source": [
    "$ \\frac{1}{4} \\sum_{m<n} J_{HS}(m-n) (\\sigma^x_{m} \\sigma^x_{n} + \\sigma^y_{m} \\sigma^y_{n} + \\sigma^z_{m} \\sigma^z_n) $ where $J_{HS}(m-n) = \\frac{\\pi^2}{N^2 \\sin^2 ((m-n)\\pi / N)}$, $N$ is number of sites. Use periodic boundary conditions"
   ]
  },
  {
   "cell_type": "markdown",
   "metadata": {},
   "source": []
  }
 ],
 "metadata": {
  "language_info": {
   "name": "python"
  }
 },
 "nbformat": 4,
 "nbformat_minor": 2
}
