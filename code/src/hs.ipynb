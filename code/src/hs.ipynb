{
 "cells": [
  {
   "cell_type": "markdown",
   "metadata": {},
   "source": [
    "$ \\frac{1}{4} \\sum_{m<n} J_{HS}(m-n) (\\sigma^x_{m} \\sigma^x_{n} + \\sigma^y_{m} \\sigma^y_{n} + \\sigma^z_{m} \\sigma^z_n) $ where $J_{HS}(m-n) = \\frac{\\pi^2}{N^2 \\sin^2 ((m-n)\\pi / N)}$, $N$ is number of sites. Use periodic boundary conditions"
   ]
  },
  {
   "cell_type": "code",
   "execution_count": null,
   "metadata": {},
   "outputs": [],
   "source": [
    "import numpy as np\n",
    "import netket as nk\n",
    "import flax.linen  as nn\n",
    "from netket.operator.spin import sigmax, sigmay, sigmaz"
   ]
  },
  {
   "cell_type": "code",
   "execution_count": null,
   "metadata": {},
   "outputs": [],
   "source": [
    "def haldane_shastry_model(N):\n",
    "    hi = nk.hilbert.Spin(s=1/2, N=N)\n",
    "    sum = 0\n",
    "    for n in range(N):\n",
    "        for m in range(n):\n",
    "            hs = (np.pi**2) / (N**2 * (np.sin((m-n)*np.pi/N)^2))\n",
    "            x = sigmax(hi, m) * sigmax(hi, n)\n",
    "            y = sigmay(hi, m) * sigmay(hi, n)\n",
    "            z = sigmaz(hi, m) * sigmaz(hi, n)\n",
    "            sum += hs * (x+y+z)\n",
    "    return sum / 4\n",
    "\n"
   ]
  },
  {
   "cell_type": "code",
   "execution_count": null,
   "metadata": {},
   "outputs": [],
   "source": []
  }
 ],
 "metadata": {
  "language_info": {
   "name": "python"
  }
 },
 "nbformat": 4,
 "nbformat_minor": 2
}
