{
 "cells": [
  {
   "cell_type": "markdown",
   "metadata": {},
   "source": [
    "# NQS on Ising model with NetKet\n",
    "https://netket.readthedocs.io/en/latest/tutorials/gs-ising.html#neural-network-quantum-state\n",
    "https://netket.readthedocs.io/en/latest/docs/varstate.html#expectation-values"
   ]
  },
  {
   "cell_type": "code",
   "execution_count": 1,
   "metadata": {},
   "outputs": [],
   "source": [
    "import netket as nk\n",
    "import flax.linen  as nn\n",
    "from netket.operator.spin import sigmax, sigmaz"
   ]
  },
  {
   "cell_type": "code",
   "execution_count": 8,
   "metadata": {},
   "outputs": [],
   "source": [
    "N = 20 # number of sites \n",
    "hi = nk.hilbert.Spin(s=1/2, N=N)"
   ]
  },
  {
   "cell_type": "markdown",
   "metadata": {},
   "source": [
    "$\\Gamma \\sum_i \\sigma^x_i$ transverse field term"
   ]
  },
  {
   "cell_type": "code",
   "execution_count": 9,
   "metadata": {},
   "outputs": [],
   "source": [
    "gamma = -1\n",
    "H = sum([gamma * sigmax(hi, i) for i in range(N)])"
   ]
  },
  {
   "cell_type": "markdown",
   "metadata": {},
   "source": [
    "$V \\sum_i \\sigma_i^z \\sigma_{i+1}^z$ interaction term"
   ]
  },
  {
   "cell_type": "code",
   "execution_count": 10,
   "metadata": {},
   "outputs": [],
   "source": [
    "V = - 1\n",
    "H += sum([V * sigmaz(hi, i) * sigmaz(hi, (i + 1) % N) for i in range(N)])"
   ]
  },
  {
   "cell_type": "markdown",
   "metadata": {},
   "source": [
    "Pick a model—in this case the restricted Boltzmann machine originally used in NQS—and a Monte Carlo sampler (strategy for proposing new configs), and initialize a variational quantum state."
   ]
  },
  {
   "cell_type": "code",
   "execution_count": 5,
   "metadata": {},
   "outputs": [],
   "source": [
    "rbm = nk.models.RBM(alpha=1, param_dtype=float, kernel_init=nn.initializers.normal(stddev=0.01))\n",
    "sampler = nk.sampler.MetropolisLocal(hi)\n",
    "vstate = nk.vqs.MCState(sampler, model=rbm, n_samples=512)"
   ]
  },
  {
   "cell_type": "markdown",
   "metadata": {},
   "source": [
    "Perform the actual variational optimization with stochastic gradient descent as an optimizer, and with stochastic reconfiguration as a preconditioner."
   ]
  },
  {
   "cell_type": "code",
   "execution_count": 6,
   "metadata": {},
   "outputs": [],
   "source": [
    "optimizer = nk.optimizer.Sgd(learning_rate=0.1)\n",
    "\n",
    "# diag_shift is singular matrix regularization\n",
    "gs = nk.driver.VMC(H, optimizer, variational_state=vstate, preconditioner=nk.optimizer.SR(diag_shift=0.1))"
   ]
  },
  {
   "cell_type": "code",
   "execution_count": 7,
   "metadata": {},
   "outputs": [
    {
     "name": "stderr",
     "output_type": "stream",
     "text": [
      "100%|██████████| 300/300 [00:05<00:00, 54.17it/s, Energy=-25.477 ± 0.010 [σ²=0.055, R̂=1.0126]]   \n"
     ]
    },
    {
     "name": "stdout",
     "output_type": "stream",
     "text": [
      "Optimized energy: -25.47972650143279\n"
     ]
    }
   ],
   "source": [
    "log=nk.logging.RuntimeLog()\n",
    "gs.run(n_iter=300,out=log)\n",
    "\n",
    "ffn_energy=vstate.expect(H)\n",
    "print(\"Optimized energy:\", ffn_energy.mean)"
   ]
  }
 ],
 "metadata": {
  "kernelspec": {
   "display_name": "nqs",
   "language": "python",
   "name": "python3"
  },
  "language_info": {
   "codemirror_mode": {
    "name": "ipython",
    "version": 3
   },
   "file_extension": ".py",
   "mimetype": "text/x-python",
   "name": "python",
   "nbconvert_exporter": "python",
   "pygments_lexer": "ipython3",
   "version": "3.10.13"
  }
 },
 "nbformat": 4,
 "nbformat_minor": 2
}
