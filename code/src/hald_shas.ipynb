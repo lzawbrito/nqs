{
 "cells": [
  {
   "cell_type": "markdown",
   "metadata": {},
   "source": [
    "$ \\frac{1}{4} \\sum_{m<n} J_{HS}(m-n) (\\sigma^x_{m} \\sigma^x_{n} + \\sigma^y_{m} \\sigma^y_{n} + \\sigma^z_{m} \\sigma^z_n) $ where $J_{HS}(m-n) = \\frac{\\\\pi^2}{N^2 \\sin^2 ((m-n)\\pi / N)}$, $N$ is number of sites. Use periodic boundary conditions"
   ]
  },
  {
   "cell_type": "code",
   "execution_count": 2,
   "metadata": {},
   "outputs": [],
   "source": [
    "import numpy as np\n",
    "import netket as nk\n",
    "import flax.linen  as nn\n",
    "from netket.operator.spin import sigmax, sigmay, sigmaz\n",
    "import matplotlib.pyplot as plt"
   ]
  },
  {
   "cell_type": "code",
   "execution_count": 3,
   "metadata": {},
   "outputs": [],
   "source": [
    "def wrap_index(N, m, n):\n",
    "    if m >= n:\n",
    "        swap = m\n",
    "        m = n\n",
    "        n = swap\n",
    "    \n",
    "    forward_dist = abs(m-n)\n",
    "    back_dist = abs(N+m-n)\n",
    "    return min(forward_dist, back_dist)"
   ]
  },
  {
   "cell_type": "code",
   "execution_count": 8,
   "metadata": {},
   "outputs": [
    {
     "ename": "TypeError",
     "evalue": "MCState.__init__() got an unexpected keyword argument 'holomorphic'",
     "output_type": "error",
     "traceback": [
      "\u001b[0;31m---------------------------------------------------------------------------\u001b[0m",
      "\u001b[0;31mTypeError\u001b[0m                                 Traceback (most recent call last)",
      "Cell \u001b[0;32mIn[8], line 21\u001b[0m\n\u001b[1;32m     19\u001b[0m rbm \u001b[38;5;241m=\u001b[39m nk\u001b[38;5;241m.\u001b[39mmodels\u001b[38;5;241m.\u001b[39mRBM(alpha\u001b[38;5;241m=\u001b[39m\u001b[38;5;241m1\u001b[39m, param_dtype\u001b[38;5;241m=\u001b[39m\u001b[38;5;28mcomplex\u001b[39m, kernel_init\u001b[38;5;241m=\u001b[39mnn\u001b[38;5;241m.\u001b[39minitializers\u001b[38;5;241m.\u001b[39mnormal(stddev\u001b[38;5;241m=\u001b[39m\u001b[38;5;241m0.01\u001b[39m))\n\u001b[1;32m     20\u001b[0m sampler \u001b[38;5;241m=\u001b[39m nk\u001b[38;5;241m.\u001b[39msampler\u001b[38;5;241m.\u001b[39mMetropolisLocal(hi)\n\u001b[0;32m---> 21\u001b[0m vstate \u001b[38;5;241m=\u001b[39m \u001b[43mnk\u001b[49m\u001b[38;5;241;43m.\u001b[39;49m\u001b[43mvqs\u001b[49m\u001b[38;5;241;43m.\u001b[39;49m\u001b[43mMCState\u001b[49m\u001b[43m(\u001b[49m\u001b[43msampler\u001b[49m\u001b[43m,\u001b[49m\u001b[43m \u001b[49m\u001b[43mmodel\u001b[49m\u001b[38;5;241;43m=\u001b[39;49m\u001b[43mrbm\u001b[49m\u001b[43m,\u001b[49m\u001b[43m \u001b[49m\u001b[43mn_samples\u001b[49m\u001b[38;5;241;43m=\u001b[39;49m\u001b[38;5;241;43m500\u001b[39;49m\u001b[43m,\u001b[49m\u001b[43m \u001b[49m\u001b[43mholomorphic\u001b[49m\u001b[38;5;241;43m=\u001b[39;49m\u001b[38;5;28;43;01mFalse\u001b[39;49;00m\u001b[43m)\u001b[49m\n\u001b[1;32m     22\u001b[0m optimizer \u001b[38;5;241m=\u001b[39m nk\u001b[38;5;241m.\u001b[39moptimizer\u001b[38;5;241m.\u001b[39mSgd(learning_rate\u001b[38;5;241m=\u001b[39m\u001b[38;5;241m0.1\u001b[39m)\n\u001b[1;32m     23\u001b[0m preconditioner \u001b[38;5;241m=\u001b[39m nk\u001b[38;5;241m.\u001b[39moptimizer\u001b[38;5;241m.\u001b[39mSR(diag_shift\u001b[38;5;241m=\u001b[39m\u001b[38;5;241m0.1\u001b[39m)\n",
      "\u001b[0;31mTypeError\u001b[0m: MCState.__init__() got an unexpected keyword argument 'holomorphic'"
     ]
    }
   ],
   "source": [
    "nqs_en_x = []\n",
    "nqs_en_y = []\n",
    "analytical_en_x = []\n",
    "analytical_en_y = []\n",
    "for N in range(3, 51):\n",
    "    if N %2 == 0:\n",
    "        hi = nk.hilbert.Spin(s=1/2, N=N)\n",
    "        def haldane_shastry_model(N):\n",
    "            sum = 0\n",
    "            for n in range(N):\n",
    "                for m in range(n):\n",
    "                    hs = (np.pi**2) / (N**2 * (np.sin((wrap_index(N, n, m))*np.pi/N)**2))\n",
    "                    x = sigmax(hi, m) * sigmax(hi, n)\n",
    "                    y = sigmay(hi, m) * sigmay(hi, n)\n",
    "                    z = sigmaz(hi, m) * sigmaz(hi, n)\n",
    "                    sum += hs * (x+y+z)\n",
    "            return sum / 4\n",
    "        hs20 = haldane_shastry_model(N)\n",
    "        rbm = nk.models.RBM(alpha=1, param_dtype=complex, kernel_init=nn.initializers.normal(stddev=0.01))\n",
    "        sampler = nk.sampler.MetropolisLocal(hi)\n",
    "        vstate = nk.vqs.MCState(sampler, model=rbm, n_samples=500)\n",
    "        optimizer = nk.optimizer.Sgd(learning_rate=0.1)\n",
    "        preconditioner = nk.optimizer.SR(diag_shift=0.1)\n",
    "        vmc = nk.driver.VMC(hs20, optimizer, variational_state=vstate, preconditioner=preconditioner)\n",
    "        log = nk.logging.RuntimeLog()\n",
    "        vmc.run(n_iter=300, out=log)\n",
    "        opt_energy = vstate.expect(hs20)\n",
    "        nqs_en_x.append(N)\n",
    "        analytical_en_x.append(N)\n",
    "        nqs_en_y.append(opt_energy.mean)\n",
    "        analytical_en_y.append(-np.pi**2/24*(N+5/N))\n",
    "plt.plot(nqs_en_x, nqs_en_y, label=\"NQS\") \n",
    "plt.plot(analytical_en_x, analytical_en_y, label=\"analytical\") \n",
    "plt.legend()\n",
    "    "
   ]
  },
  {
   "cell_type": "code",
   "execution_count": 98,
   "metadata": {},
   "outputs": [],
   "source": [
    "hs20 = haldane_shastry_model(N)"
   ]
  },
  {
   "cell_type": "code",
   "execution_count": 22,
   "metadata": {},
   "outputs": [
    {
     "name": "stderr",
     "output_type": "stream",
     "text": [
      "/Users/lzawbrito/opt/miniconda3/envs/nqs/lib/python3.12/site-packages/netket/vqs/mc/mc_state/state.py:257: UserWarning: n_samples=500 (500 per device/MPI rank) does not divide n_chains=16, increased to 512 (512 per device/MPI rank)\n",
      "  self.n_samples = n_samples\n",
      "  0%|          | 0/300 [00:00<?, ?it/s]/Users/lzawbrito/opt/miniconda3/envs/nqs/lib/python3.12/site-packages/netket/optimizer/qgt/qgt_onthefly.py:107: HolomorphicUndeclaredWarning: \n",
      "Defaulting to `holomorphic=False`, but this might lead to increased\n",
      "computational cost or disabled features. Check if your variational\n",
      "function is holomorphic, and if so specify `holomorphic=True`as an extra\n",
      "keyword argument.\n",
      "\n",
      "To silence this warning, specify the `holomorphic=False/True` keyword\n",
      "argument.\n",
      "\n",
      "To numerically check whether your variational function is or not holomorphic\n",
      "you can use the following snippet:\n",
      "\n",
      "```python\n",
      "   vs = nk.vqs.MCState(...)\n",
      "\n",
      "   nk.utils.is_probably_holomorphic(vs._apply_fun, vs.parameters, vs.samples, vs.model_state)\n",
      "```\n",
      "\n",
      "if `nk.utils.is_probably_holomorphic` returns False, then your function is not holomorphic.\n",
      "If it returns True, it is probably holomorphic.\n",
      "\n",
      "\n",
      "-------------------------------------------------------\n",
      "For more detailed informations, visit the following link:\n",
      "\t https://netket.readthedocs.io/en/latest/api/_generated/errors/netket.errors.HolomorphicUndeclaredWarning.html\n",
      "or the list of all common errors and warnings at\n",
      "\t https://netket.readthedocs.io/en/latest/api/errors.html\n",
      "-------------------------------------------------------\n",
      "\n",
      "  warnings.warn(HolomorphicUndeclaredWarning(), UserWarning)\n",
      "/Users/lzawbrito/opt/miniconda3/envs/nqs/lib/python3.12/site-packages/jax/_src/linear_util.py:192: HolomorphicUndeclaredWarning: \n",
      "Defaulting to `holomorphic=False`, but this might lead to increased\n",
      "computational cost or disabled features. Check if your variational\n",
      "function is holomorphic, and if so specify `holomorphic=True`as an extra\n",
      "keyword argument.\n",
      "\n",
      "To silence this warning, specify the `holomorphic=False/True` keyword\n",
      "argument.\n",
      "\n",
      "To numerically check whether your variational function is or not holomorphic\n",
      "you can use the following snippet:\n",
      "\n",
      "```python\n",
      "   vs = nk.vqs.MCState(...)\n",
      "\n",
      "   nk.utils.is_probably_holomorphic(vs._apply_fun, vs.parameters, vs.samples, vs.model_state)\n",
      "```\n",
      "\n",
      "if `nk.utils.is_probably_holomorphic` returns False, then your function is not holomorphic.\n",
      "If it returns True, it is probably holomorphic.\n",
      "\n",
      "\n",
      "-------------------------------------------------------\n",
      "For more detailed informations, visit the following link:\n",
      "\t https://netket.readthedocs.io/en/latest/api/_generated/errors/netket.errors.HolomorphicUndeclaredWarning.html\n",
      "or the list of all common errors and warnings at\n",
      "\t https://netket.readthedocs.io/en/latest/api/errors.html\n",
      "-------------------------------------------------------\n",
      "\n",
      "  ans = self.f(*args, **dict(self.params, **kwargs))\n",
      "  0%|          | 0/300 [00:01<?, ?it/s, Energy=8.2023+0.0004j ± 0.0032 [σ²=0.0051, R̂=1.0156]]/Users/lzawbrito/opt/miniconda3/envs/nqs/lib/python3.12/site-packages/netket/optimizer/qgt/qgt_onthefly.py:107: HolomorphicUndeclaredWarning: \n",
      "Defaulting to `holomorphic=False`, but this might lead to increased\n",
      "computational cost or disabled features. Check if your variational\n",
      "function is holomorphic, and if so specify `holomorphic=True`as an extra\n",
      "keyword argument.\n",
      "\n",
      "To silence this warning, specify the `holomorphic=False/True` keyword\n",
      "argument.\n",
      "\n",
      "To numerically check whether your variational function is or not holomorphic\n",
      "you can use the following snippet:\n",
      "\n",
      "```python\n",
      "   vs = nk.vqs.MCState(...)\n",
      "\n",
      "   nk.utils.is_probably_holomorphic(vs._apply_fun, vs.parameters, vs.samples, vs.model_state)\n",
      "```\n",
      "\n",
      "if `nk.utils.is_probably_holomorphic` returns False, then your function is not holomorphic.\n",
      "If it returns True, it is probably holomorphic.\n",
      "\n",
      "\n",
      "-------------------------------------------------------\n",
      "For more detailed informations, visit the following link:\n",
      "\t https://netket.readthedocs.io/en/latest/api/_generated/errors/netket.errors.HolomorphicUndeclaredWarning.html\n",
      "or the list of all common errors and warnings at\n",
      "\t https://netket.readthedocs.io/en/latest/api/errors.html\n",
      "-------------------------------------------------------\n",
      "\n",
      "  warnings.warn(HolomorphicUndeclaredWarning(), UserWarning)\n",
      "100%|██████████| 300/300 [00:59<00:00,  5.04it/s, Energy=-7.2415-0.0047j ± 0.0096 [σ²=0.0476, R̂=1.0820]]\n"
     ]
    },
    {
     "name": "stdout",
     "output_type": "stream",
     "text": [
      "-7.2436-0.0039j ± 0.0095 [σ²=0.0457, R̂=1.0777]\n"
     ]
    }
   ],
   "source": [
    "rbm = nk.models.RBM(alpha=3, param_dtype=complex, kernel_init=nn.initializers.normal(stddev=0.001))\n",
    "sampler = nk.sampler.MetropolisLocal(hi)\n",
    "vstate = nk.vqs.MCState(sampler, model=rbm, n_samples=500)\n",
    "optimizer = nk.optimizer.Sgd(learning_rate=0.05)\n",
    "preconditioner = nk.optimizer.SR(diag_shift=0.1)\n",
    "vmc = nk.driver.VMC(hs20, optimizer, variational_state=vstate, preconditioner=preconditioner)\n",
    "log = nk.logging.RuntimeLog()\n",
    "vmc.run(n_iter=300, out=log)\n",
    "opt_energy = vstate.expect(hs20)\n",
    "print(opt_energy)"
   ]
  },
  {
   "cell_type": "code",
   "execution_count": 21,
   "metadata": {},
   "outputs": [
    {
     "name": "stdout",
     "output_type": "stream",
     "text": [
      "[-1.9190897446562643, -2.158975962738297, -2.4674011002723395, -2.8100956975323865, -3.1723728432072935, -3.546889081641488, -3.9295647152485405, -4.317951925476594, -4.71049300961083, -5.106149499174703, -5.50420245445368, -5.9041383470802415, -6.305580589584868, -6.708246741365422, -7.111920818432036, -7.516434833237034, -7.921656164032249, -8.327478713419145]\n"
     ]
    },
    {
     "data": {
      "text/plain": [
       "-8.327478713419145"
      ]
     },
     "execution_count": 21,
     "metadata": {},
     "output_type": "execute_result"
    }
   ],
   "source": [
    "hs_energy = lambda x: -np.pi**2 * (x + 5/x)/24 \n",
    "true_energy = range(3,N+1)\n",
    "true_energy = [hs_energy(x) for x in true_energy]\n",
    "print(true_energy)\n",
    "hs_energy(N)"
   ]
  }
 ],
 "metadata": {
  "interpreter": {
   "hash": "a4490d07855ce6dbb083e5b55c7e7add8ece8ad50366222b47f99816f86d7c22"
  },
  "kernelspec": {
   "display_name": "Python 3.10.13 ('csci1470')",
   "language": "python",
   "name": "python3"
  },
  "language_info": {
   "codemirror_mode": {
    "name": "ipython",
    "version": 3
   },
   "file_extension": ".py",
   "mimetype": "text/x-python",
   "name": "python",
   "nbconvert_exporter": "python",
   "pygments_lexer": "ipython3",
   "version": "3.12.3"
  },
  "orig_nbformat": 4
 },
 "nbformat": 4,
 "nbformat_minor": 2
}
