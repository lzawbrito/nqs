{
 "cells": [
  {
   "cell_type": "markdown",
   "metadata": {},
   "source": [
    "$ \\frac{1}{4} \\sum_{m<n} J_{HS}(m-n) (\\sigma^x_{m} \\sigma^x_{n} + \\sigma^y_{m} \\sigma^y_{n} + \\sigma^z_{m} \\sigma^z_n) $ where $J_{HS}(m-n) = \\frac{\\\\pi^2}{N^2 \\sin^2 ((m-n)\\pi / N)}$, $N$ is number of sites. Use periodic boundary conditions"
   ]
  },
  {
   "cell_type": "code",
   "execution_count": 1,
   "metadata": {},
   "outputs": [],
   "source": [
    "import numpy as np\n",
    "import netket as nk\n",
    "import flax.linen  as nn\n",
    "from netket.operator.spin import sigmax, sigmay, sigmaz"
   ]
  },
  {
   "cell_type": "code",
   "execution_count": 2,
   "metadata": {},
   "outputs": [],
   "source": [
    "def wrap_index(N, m, n):\n",
    "    if m >= n:\n",
    "        swap = m\n",
    "        m = n\n",
    "        n = swap\n",
    "    \n",
    "    forward_dist = abs(m-n)\n",
    "    back_dist = abs(N+m-n)\n",
    "    return min(forward_dist, back_dist)"
   ]
  },
  {
   "cell_type": "code",
   "execution_count": 3,
   "metadata": {},
   "outputs": [],
   "source": [
    "N = 20\n",
    "hi = nk.hilbert.Spin(s=1/2, N=N)\n",
    "def haldane_shastry_model(N):\n",
    "    sum = 0\n",
    "    for n in range(N):\n",
    "        for m in range(n):\n",
    "            hs = (np.pi**2) / (N**2 * (np.sin((wrap_index(N, n, m))*np.pi/N)**2))\n",
    "            x = sigmax(hi, m) * sigmax(hi, n)\n",
    "            y = sigmay(hi, m) * sigmay(hi, n)\n",
    "            z = sigmaz(hi, m) * sigmaz(hi, n)\n",
    "            sum += hs * (x+y+z)\n",
    "    return sum / 4"
   ]
  },
  {
   "cell_type": "code",
   "execution_count": 4,
   "metadata": {},
   "outputs": [],
   "source": [
    "hs20 = haldane_shastry_model(N)"
   ]
  },
  {
   "cell_type": "code",
   "execution_count": 7,
   "metadata": {},
   "outputs": [
    {
     "name": "stderr",
     "output_type": "stream",
     "text": [
      "/Library/Frameworks/Python.framework/Versions/3.11/lib/python3.11/site-packages/netket/vqs/mc/mc_state/state.py:257: UserWarning: n_samples=500 (500 per device/MPI rank) does not divide n_chains=16, increased to 512 (512 per device/MPI rank)\n",
      "  self.n_samples = n_samples\n",
      "100%|██████████| 300/300 [00:06<00:00, 43.94it/s, Energy=-2.86886+0.00000j ± 0.00021 [σ²=0.00002, R̂=1.0146]]\n"
     ]
    },
    {
     "name": "stdout",
     "output_type": "stream",
     "text": [
      "-2.869e+00+0.000e+00j ± nan [σ²=0.000e+00]\n"
     ]
    }
   ],
   "source": [
    "rbm = nk.models.RBM(alpha=1, param_dtype=float, kernel_init=nn.initializers.normal(stddev=0.01))\n",
    "sampler = nk.sampler.MetropolisLocal(hi)\n",
    "vstate = nk.vqs.MCState(sampler, model=rbm, n_samples=500)\n",
    "optimizer = nk.optimizer.Sgd(learning_rate=0.1)\n",
    "preconditioner = nk.optimizer.SR(diag_shift=0.1)\n",
    "vmc = nk.driver.VMC(hs20, optimizer, variational_state=vstate, preconditioner=preconditioner)\n",
    "log = nk.logging.RuntimeLog()\n",
    "vmc.run(n_iter=300, out=log)\n",
    "opt_energy = vstate.expect(hs20)\n",
    "print(opt_energy)"
   ]
  },
  {
   "cell_type": "code",
   "execution_count": 6,
   "metadata": {},
   "outputs": [
    {
     "name": "stdout",
     "output_type": "stream",
     "text": [
      "[0.5483113556160755, 1.1308921709581556, 1.6449340668482264, 2.1247065030122925, 2.584896390761499, 3.0328471857514177, 3.472638585568478, 3.906718408764538, 4.336644358054415, 4.763454901914656, 5.187868980059791, 5.610400120857343, 6.0314249117768295, 6.451225793420388, 6.870018749777887, 7.287971768397003, 7.705217471025902, 8.121861955063117]\n"
     ]
    }
   ],
   "source": [
    "true_energy = range(3,N+1)\n",
    "true_energy = [np.pi**2/24*(x-5/x) for x in true_energy]\n",
    "print(true_energy)\n",
    "\n"
   ]
  }
 ],
 "metadata": {
  "interpreter": {
   "hash": "a4490d07855ce6dbb083e5b55c7e7add8ece8ad50366222b47f99816f86d7c22"
  },
  "kernelspec": {
   "display_name": "Python 3.10.13 ('csci1470')",
   "language": "python",
   "name": "python3"
  },
  "language_info": {
   "codemirror_mode": {
    "name": "ipython",
    "version": 3
   },
   "file_extension": ".py",
   "mimetype": "text/x-python",
   "name": "python",
   "nbconvert_exporter": "python",
   "pygments_lexer": "ipython3",
   "version": "3.11.1"
  },
  "orig_nbformat": 4
 },
 "nbformat": 4,
 "nbformat_minor": 2
}
