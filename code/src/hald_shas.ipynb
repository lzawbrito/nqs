{
 "cells": [
  {
   "cell_type": "markdown",
   "metadata": {},
   "source": [
    "$ \\\\frac{1}{4} \\\\sum_{m<n} J_{HS}(m-n) (\\\\sigma^x_{m} \\\\sigma^x_{n} + \\\\sigma^y_{m} \\\\sigma^y_{n} + \\\\sigma^z_{m} \\\\sigma^z_n) $ where $J_{HS}(m-n) = \\\\frac{\\\\pi^2}{N^2 \\\\sin^2 ((m-n)\\\\pi / N)}$, $N$ is number of sites. Use periodic boundary conditions"
   ]
  },
  {
   "cell_type": "code",
   "execution_count": null,
   "metadata": {},
   "outputs": [],
   "source": [
    "import numpy as np\n",
    "import netket as nk\n",
    "import flax.linen  as nn\n",
    "from netket.operator.spin import sigmax, sigmay, sigmaz"
   ]
  },
  {
   "cell_type": "code",
   "execution_count": null,
   "metadata": {},
   "outputs": [],
   "source": [
    "def wrap_index(n, i, j=0):\n",
    "    wrap = (abs(i - j) - 1) % n + 1\n",
    "    if j != 0:\n",
    "        if wrap > n / 2:\n",
    "            return abs(n - abs(wrap))\n",
    "    return wrap"
   ]
  },
  {
   "cell_type": "code",
   "execution_count": null,
   "metadata": {},
   "outputs": [],
   "source": [
    "hi = nk.hilbert.Spin(s=1/2, N=20)\n",
    "def haldane_shastry_model(N):\n",
    "    sum = 0\n",
    "    for n in range(N):\n",
    "        for m in range(n):\n",
    "            hs = (np.pi**2) / (N**2 * (np.sin((wrap_index(n, m))*np.pi/N)**2))\n",
    "            x = sigmax(hi, m) * sigmax(hi, n)\n",
    "            y = sigmay(hi, m) * sigmay(hi, n)\n",
    "            z = sigmaz(hi, m) * sigmaz(hi, n)\n",
    "            sum += hs * (x+y+z)\n",
    "    return sum / 4"
   ]
  },
  {
   "cell_type": "code",
   "execution_count": null,
   "metadata": {},
   "outputs": [],
   "source": [
    "hs20 = haldane_shastry_model(20)"
   ]
  },
  {
   "cell_type": "code",
   "execution_count": null,
   "metadata": {},
   "outputs": [],
   "source": [
    "rbm = nk.models.RBM(alpha=1, param_dtype=float, kernel_init=nn.initializers.normal(stddev=0.01))\n",
    "sampler = nk.sampler.MetropolisLocal(hi)\n",
    "vstate = nk.vqs.MCState(sampler, model=rbm, n_samples=500)\n",
    "optimizer = nk.optimizer.Sgd(learning_rate=0.1)\n",
    "preconditioner = nk.optimizer.SR(diag_shift=0.1)\n",
    "vmc = nk.driver.VMC(hs20, optimizer, variational_state=vstate, preconditioner=preconditioner)\n",
    "log = nk.logging.RuntimeLog()\n",
    "vmc.run(n_iter=300, out=log)\n",
    "opt_energy = vstate.expect(hs20)\n",
    "print(opt_energy)"
   ]
  }
 ],
 "metadata": {
  "interpreter": {
   "hash": "a4490d07855ce6dbb083e5b55c7e7add8ece8ad50366222b47f99816f86d7c22"
  },
  "kernelspec": {
   "display_name": "Python 3.10.13 ('csci1470')",
   "language": "python",
   "name": "python3"
  },
  "language_info": {
   "name": "python",
   "version": "3.10.13"
  },
  "orig_nbformat": 4
 },
 "nbformat": 4,
 "nbformat_minor": 2
}
