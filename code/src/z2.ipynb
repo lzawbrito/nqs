{
 "cells": [
  {
   "cell_type": "code",
   "execution_count": null,
   "metadata": {},
   "outputs": [],
   "source": []
  },
  {
   "cell_type": "markdown",
   "metadata": {},
   "source": [
    "Equivariant layer: Two channels (I think for 2 valued dof), stride 1 CNN with leaky relu then wilson path pointwise multiplication, and skip connection.\n",
    "Invariant layer: two channels, stride 1,. \n",
    "Network with equivariant layer tends to do better."
   ]
  }
 ],
 "metadata": {
  "language_info": {
   "name": "python"
  }
 },
 "nbformat": 4,
 "nbformat_minor": 2
}
