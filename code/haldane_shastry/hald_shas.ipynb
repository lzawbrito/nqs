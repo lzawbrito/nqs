{
 "cells": [
  {
   "cell_type": "markdown",
   "metadata": {},
   "source": [
    "$ \\frac{1}{4} \\sum_{m<n} J_{HS}(m-n) (\\sigma^x_{m} \\sigma^x_{n} + \\sigma^y_{m} \\sigma^y_{n} + \\sigma^z_{m} \\sigma^z_n) $ where $J_{HS}(m-n) = \\frac{\\\\pi^2}{N^2 \\sin^2 ((m-n)\\pi / N)}$, $N$ is number of sites. Use periodic boundary conditions"
   ]
  },
  {
   "cell_type": "code",
   "execution_count": 1,
   "metadata": {},
   "outputs": [],
   "source": [
    "import numpy as np\n",
    "import netket as nk\n",
    "import flax.linen  as nn\n",
    "from netket.operator.spin import sigmax, sigmay, sigmaz\n",
    "import matplotlib.pyplot as plt"
   ]
  },
  {
   "cell_type": "code",
   "execution_count": 2,
   "metadata": {},
   "outputs": [],
   "source": [
    "def wrap_index(N, m, n):\n",
    "    if m >= n:\n",
    "        swap = m\n",
    "        m = n\n",
    "        n = swap\n",
    "    \n",
    "    forward_dist = abs(m-n)\n",
    "    back_dist = abs(N+m-n)\n",
    "    return min(forward_dist, back_dist)"
   ]
  },
  {
   "cell_type": "code",
   "execution_count": 3,
   "metadata": {},
   "outputs": [],
   "source": [
    "def haldane_shastry_model(N):\n",
    "    hi = nk.hilbert.Spin(s=1/2, N=N)\n",
    "    sum = 0\n",
    "    for n in range(N):\n",
    "        for m in range(n):\n",
    "            hs = (np.pi**2) / (N**2 * (np.sin((wrap_index(N, n, m))*np.pi/N)**2))\n",
    "            x = sigmax(hi, m) * sigmax(hi, n)\n",
    "            y = sigmay(hi, m) * sigmay(hi, n)\n",
    "            z = sigmaz(hi, m) * sigmaz(hi, n)\n",
    "            sum += hs * (x+y+z)\n",
    "    return sum / 4"
   ]
  },
  {
   "cell_type": "code",
   "execution_count": 4,
   "metadata": {},
   "outputs": [],
   "source": [
    "nqs_en_x = []\n",
    "nqs_en_y = []\n",
    "analytical_en_x = []\n",
    "analytical_en_y = []"
   ]
  },
  {
   "cell_type": "code",
   "execution_count": 5,
   "metadata": {},
   "outputs": [
    {
     "name": "stderr",
     "output_type": "stream",
     "text": [
      "100%|██████████| 310/310 [00:01<00:00, 183.28it/s, Energy=-2.1589914-0.0000127j ± 0.0000075 [σ²=0.0000000, R̂=1.4031]]    \n",
      "100%|██████████| 340/340 [00:03<00:00, 109.21it/s, Energy=-2.7730+0.0189j ± 0.0036 [σ²=0.0066, R̂=1.4031]]    \n",
      "100%|██████████| 370/370 [00:06<00:00, 61.17it/s, Energy=-3.5683+0.0158j ± 0.0057 [σ²=0.0168, R̂=1.4031]]\n",
      "100%|██████████| 400/400 [00:10<00:00, 37.37it/s, Energy=-4.191+0.095j ± 0.031 [σ²=0.499, R̂=1.3439]]    \n",
      "100%|██████████| 430/430 [00:16<00:00, 26.43it/s, Energy=-5.072+0.018j ± 0.011 [σ²=0.057, R̂=1.2329]]    \n",
      "100%|██████████| 460/460 [00:25<00:00, 18.28it/s, Energy=-5.44-0.05j ± 0.11 [σ²=6.04, R̂=1.0087]]        \n",
      "100%|██████████| 490/490 [00:30<00:00, 16.28it/s, Energy=-6.652+0.011j ± 0.022 [σ²=0.258, R̂=1.0808]]    \n",
      "100%|██████████| 520/520 [00:41<00:00, 12.51it/s, Energy=-7.397-0.069j ± 0.016 [σ²=0.126, R̂=1.2708]]    \n",
      "100%|██████████| 550/550 [00:50<00:00, 10.90it/s, Energy=-8.058-0.007j ± 0.011 [σ²=0.064, R̂=1.3498]]    \n",
      "100%|██████████| 580/580 [01:06<00:00,  8.75it/s, Energy=-8.204-0.004j ± 0.012 [σ²=0.079, R̂=1.1619]]    \n",
      "100%|██████████| 610/610 [01:41<00:00,  6.04it/s, Energy=-8.905-0.041j ± 0.022 [σ²=0.239, R̂=1.0898]]    \n",
      "100%|██████████| 640/640 [01:57<00:00,  5.47it/s, Energy=-9.873-0.014j ± 0.011 [σ²=0.057, R̂=1.2150]]    \n",
      "100%|██████████| 670/670 [02:14<00:00,  4.97it/s, Energy=-8.8251+0.0059j ± 0.0032 [σ²=0.0051, R̂=1.3827]]\n",
      "100%|██████████| 700/700 [03:34<00:00,  3.27it/s, Energy=-11.595-0.015j ± 0.017 [σ²=0.140, R̂=1.2937]] \n"
     ]
    }
   ],
   "source": [
    "for N in range(3, 31):\n",
    "    if N % 2 == 0:\n",
    "        hs = haldane_shastry_model(N)\n",
    "        rbm = nk.models.RBM(alpha=1, param_dtype=complex, kernel_init=nn.initializers.normal(stddev=0.01))\n",
    "\n",
    "        hi = nk.hilbert.Spin(s=1/2, N=N)\n",
    "        sampler = nk.sampler.MetropolisLocal(hi)\n",
    "\n",
    "        vstate = nk.vqs.MCState(sampler, model=rbm, n_samples=500)\n",
    "        optimizer = nk.optimizer.Sgd(learning_rate=0.1)\n",
    "        preconditioner = nk.optimizer.SR(diag_shift=0.1, holomorphic=False)\n",
    "        vmc = nk.driver.VMC(hs, optimizer, variational_state=vstate, preconditioner=preconditioner)\n",
    "\n",
    "        log = nk.logging.RuntimeLog()\n",
    "        vmc.run(n_iter=250 + 15 * N, out=log)\n",
    "        opt_energy = vstate.expect(hs)\n",
    "\n",
    "        nqs_en_x.append(N)\n",
    "        analytical_en_x.append(N)\n",
    "        nqs_en_y.append(opt_energy.mean.real)\n",
    "        analytical_en_y.append(-np.pi**2 / 24 * (N + 5 / N))"
   ]
  },
  {
   "cell_type": "code",
   "execution_count": 11,
   "metadata": {},
   "outputs": [],
   "source": [
    "np.savetxt(\"hs_outputs.txt\", np.column_stack((nqs_en_x, nqs_en_y, analytical_en_x, analytical_en_y)))"
   ]
  }
 ],
 "metadata": {
  "interpreter": {
   "hash": "a4490d07855ce6dbb083e5b55c7e7add8ece8ad50366222b47f99816f86d7c22"
  },
  "kernelspec": {
   "display_name": "Python 3.10.13 ('csci1470')",
   "language": "python",
   "name": "python3"
  },
  "language_info": {
   "codemirror_mode": {
    "name": "ipython",
    "version": 3
   },
   "file_extension": ".py",
   "mimetype": "text/x-python",
   "name": "python",
   "nbconvert_exporter": "python",
   "pygments_lexer": "ipython3",
   "version": "3.10.13"
  },
  "orig_nbformat": 4
 },
 "nbformat": 4,
 "nbformat_minor": 2
}
