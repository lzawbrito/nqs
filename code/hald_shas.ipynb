{
 "cells": [
  {
   "cell_type": "markdown",
   "metadata": {},
   "source": [
    "$ \\frac{1}{4} \\sum_{m<n} J_{HS}(m-n)\\, \\vec{\\sigma}_m\\cdot\\vec{\\sigma}_n $ where $J_{HS}(m-n) = \\frac{\\\\pi^2}{N^2 \\sin^2 ((m-n)\\pi / N)}$, $N$ is number of sites. Use periodic boundary conditions"
   ]
  },
  {
   "cell_type": "code",
   "execution_count": 1,
   "metadata": {},
   "outputs": [],
   "source": [
    "import numpy as np\n",
    "import netket as nk\n",
    "import flax.linen  as nn\n",
    "from netket.operator.spin import sigmax, sigmay, sigmaz\n",
    "import matplotlib.pyplot as plt\n",
    "from src.hamiltonians import wrap_index"
   ]
  },
  {
   "cell_type": "code",
   "execution_count": 2,
   "metadata": {},
   "outputs": [],
   "source": [
    "def haldane_shastry_model(N):\n",
    "    hi = nk.hilbert.Spin(s=1/2, N=N)\n",
    "    sum = 0\n",
    "    for n in range(N):\n",
    "        for m in range(n):\n",
    "            hs = (np.pi**2) / (N**2 * (np.sin((wrap_index(N, n, m))*np.pi/N)**2))\n",
    "            x = sigmax(hi, m) * sigmax(hi, n)\n",
    "            y = sigmay(hi, m) * sigmay(hi, n)\n",
    "            z = sigmaz(hi, m) * sigmaz(hi, n)\n",
    "            sum += hs * (x+y+z)\n",
    "    return sum / 4"
   ]
  },
  {
   "cell_type": "markdown",
   "metadata": {},
   "source": [
    "## Training\n",
    "Note that the number of hidden features, the samples, and the number of optimization epochs increases with system size."
   ]
  },
  {
   "cell_type": "code",
   "execution_count": 3,
   "metadata": {},
   "outputs": [],
   "source": [
    "nqs_en_x = []\n",
    "nqs_en_y = []\n",
    "analytical_en_x = []\n",
    "analytical_en_y = []"
   ]
  },
  {
   "cell_type": "code",
   "execution_count": 4,
   "metadata": {},
   "outputs": [
    {
     "name": "stdout",
     "output_type": "stream",
     "text": [
      "running: N=20\n",
      "expecting energy -8.327478713419147\n"
     ]
    },
    {
     "name": "stderr",
     "output_type": "stream",
     "text": [
      "100%|██████████| 550/550 [02:09<00:00,  4.25it/s, Energy=-7.4424-0.0074j ± 0.0053 [σ²=0.0231, R̂=1.1319]]\n"
     ]
    }
   ],
   "source": [
    "for N in range(3, 29):\n",
    "    if not N % 2 == 0:\n",
    "        continue\n",
    "    \n",
    "    print(f'running: N={N}')\n",
    "\n",
    "    hs = haldane_shastry_model(N)\n",
    "    rbm = nk.models.RBM(alpha=1*max(1, N/10), param_dtype=complex, kernel_init=nn.initializers.normal(stddev=0.01))\n",
    "\n",
    "    hi = nk.hilbert.Spin(s=1/2, N=N)\n",
    "    sampler = nk.sampler.MetropolisLocal(hi)\n",
    "\n",
    "    vstate = nk.vqs.MCState(sampler, model=rbm, n_samples=512 + 16 * N)\n",
    "    optimizer = nk.optimizer.Sgd(learning_rate=0.05)\n",
    "    preconditioner = nk.optimizer.SR(diag_shift=0.1, holomorphic=False)\n",
    "    vmc = nk.driver.VMC(hs, optimizer, variational_state=vstate, preconditioner=preconditioner)\n",
    "\n",
    "    true_energy = -np.pi**2 / 24 * (N + 5 / N) \n",
    "    print('expecting energy', true_energy)\n",
    "\n",
    "    log = nk.logging.RuntimeLog()\n",
    "    vmc.run(n_iter=250 + 15 * N, out=log)\n",
    "    opt_energy = vstate.expect(hs)\n",
    "\n",
    "    nqs_en_x.append(N)\n",
    "    analytical_en_x.append(N)\n",
    "    nqs_en_y.append(opt_energy.mean.real)\n",
    "    analytical_en_y.append(true_energy)"
   ]
  },
  {
   "cell_type": "code",
   "execution_count": 6,
   "metadata": {},
   "outputs": [],
   "source": [
    "np.savetxt(\"../data/hs_outputs_4.txt\", np.column_stack((nqs_en_x, nqs_en_y, analytical_en_x, analytical_en_y)))"
   ]
  }
 ],
 "metadata": {
  "interpreter": {
   "hash": "a4490d07855ce6dbb083e5b55c7e7add8ece8ad50366222b47f99816f86d7c22"
  },
  "kernelspec": {
   "display_name": "Python 3.10.13 ('csci1470')",
   "language": "python",
   "name": "python3"
  },
  "language_info": {
   "codemirror_mode": {
    "name": "ipython",
    "version": 3
   },
   "file_extension": ".py",
   "mimetype": "text/x-python",
   "name": "python",
   "nbconvert_exporter": "python",
   "pygments_lexer": "ipython3",
   "version": "3.12.3"
  },
  "orig_nbformat": 4
 },
 "nbformat": 4,
 "nbformat_minor": 2
}
