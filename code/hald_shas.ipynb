{
 "cells": [
  {
   "cell_type": "markdown",
   "metadata": {},
   "source": [
    "$ \\frac{1}{4} \\sum_{m<n} J_{HS}(m-n)\\, \\vec{\\sigma}_m\\cdot\\vec{\\sigma}_n $ where $J_{HS}(m-n) = \\frac{\\\\pi^2}{N^2 \\sin^2 ((m-n)\\pi / N)}$, $N$ is number of sites. Use periodic boundary conditions"
   ]
  },
  {
   "cell_type": "code",
   "execution_count": 1,
   "metadata": {},
   "outputs": [],
   "source": [
    "import numpy as np\n",
    "import netket as nk\n",
    "import flax.linen  as nn\n",
    "from netket.operator.spin import sigmax, sigmay, sigmaz\n",
    "import matplotlib.pyplot as plt\n",
    "from src.hamiltonians import wrap_index"
   ]
  },
  {
   "cell_type": "code",
   "execution_count": 2,
   "metadata": {},
   "outputs": [],
   "source": [
    "def haldane_shastry_model(N):\n",
    "    hi = nk.hilbert.Spin(s=1/2, N=N)\n",
    "    sum = 0\n",
    "    for n in range(N):\n",
    "        for m in range(n):\n",
    "            hs = (np.pi**2) / (N**2 * (np.sin((wrap_index(N, n, m))*np.pi/N)**2))\n",
    "            x = sigmax(hi, m) * sigmax(hi, n)\n",
    "            y = sigmay(hi, m) * sigmay(hi, n)\n",
    "            z = sigmaz(hi, m) * sigmaz(hi, n)\n",
    "            sum += hs * (x+y+z)\n",
    "    return sum / 4"
   ]
  },
  {
   "cell_type": "markdown",
   "metadata": {},
   "source": [
    "## Training\n",
    "Note that the number of hidden features, the samples, and the number of optimization epochs increases with system size."
   ]
  },
  {
   "cell_type": "code",
   "execution_count": 4,
   "metadata": {},
   "outputs": [],
   "source": [
    "nqs_en_x = []\n",
    "nqs_en_y = []\n",
    "analytical_en_x = []\n",
    "analytical_en_y = []"
   ]
  },
  {
   "cell_type": "code",
   "execution_count": 16,
   "metadata": {},
   "outputs": [
    {
     "name": "stdout",
     "output_type": "stream",
     "text": [
      "running: N=4\n",
      "expecting energy -2.158975962738297\n"
     ]
    },
    {
     "name": "stderr",
     "output_type": "stream",
     "text": [
      "100%|██████████| 310/310 [00:01<00:00, 207.95it/s, Energy=-2.158950-0.000007j ± 0.000036 [σ²=0.000001, R̂=1.3815]]    \n"
     ]
    },
    {
     "name": "stdout",
     "output_type": "stream",
     "text": [
      "running: N=6\n",
      "expecting energy -2.8100956975323865\n"
     ]
    },
    {
     "name": "stderr",
     "output_type": "stream",
     "text": [
      "100%|██████████| 340/340 [00:03<00:00, 97.98it/s, Energy=-2.8166-0.0065j ± 0.0012 [σ²=0.0009, R̂=1.3698]]     \n"
     ]
    },
    {
     "name": "stdout",
     "output_type": "stream",
     "text": [
      "running: N=8\n",
      "expecting energy -3.546889081641488\n"
     ]
    },
    {
     "name": "stderr",
     "output_type": "stream",
     "text": [
      "100%|██████████| 370/370 [00:05<00:00, 63.06it/s, Energy=-2.5788+0.0001j ± 0.0021 [σ²=0.0027, R̂=1.0123]]        \n"
     ]
    },
    {
     "name": "stdout",
     "output_type": "stream",
     "text": [
      "running: N=10\n",
      "expecting energy -4.317951925476594\n"
     ]
    },
    {
     "name": "stderr",
     "output_type": "stream",
     "text": [
      "100%|██████████| 400/400 [00:12<00:00, 33.14it/s, Energy=-4.2414+0.0072j ± 0.0072 [σ²=0.0347, R̂=1.3057]]\n"
     ]
    },
    {
     "name": "stdout",
     "output_type": "stream",
     "text": [
      "running: N=12\n",
      "expecting energy -5.106149499174703\n"
     ]
    },
    {
     "name": "stderr",
     "output_type": "stream",
     "text": [
      "100%|██████████| 430/430 [00:22<00:00, 18.83it/s, Energy=-5.0412+0.0234j ± 0.0097 [σ²=0.0666, R̂=1.2411]]\n"
     ]
    },
    {
     "name": "stdout",
     "output_type": "stream",
     "text": [
      "running: N=14\n",
      "expecting energy -5.9041383470802415\n"
     ]
    },
    {
     "name": "stderr",
     "output_type": "stream",
     "text": [
      "100%|██████████| 460/460 [00:25<00:00, 17.72it/s, Energy=-3.616404+0.000053j ± 0.000026 [σ²=0.000000, R̂=1.4065]]    \n"
     ]
    },
    {
     "name": "stdout",
     "output_type": "stream",
     "text": [
      "running: N=16\n",
      "expecting energy -6.708246741365423\n"
     ]
    },
    {
     "name": "stderr",
     "output_type": "stream",
     "text": [
      "100%|██████████| 490/490 [00:52<00:00,  9.26it/s, Energy=-6.7061+0.0015j ± 0.0040 [σ²=0.0126, R̂=1.2605]]\n"
     ]
    },
    {
     "name": "stdout",
     "output_type": "stream",
     "text": [
      "running: N=18\n",
      "expecting energy -7.516434833237035\n"
     ]
    },
    {
     "name": "stderr",
     "output_type": "stream",
     "text": [
      "100%|██████████| 520/520 [01:26<00:00,  5.99it/s, Energy=-7.4996-0.0038j ± 0.0070 [σ²=0.0392, R̂=1.1511]]\n"
     ]
    },
    {
     "name": "stdout",
     "output_type": "stream",
     "text": [
      "running: N=20\n",
      "expecting energy -8.327478713419147\n"
     ]
    },
    {
     "name": "stderr",
     "output_type": "stream",
     "text": [
      "100%|██████████| 550/550 [02:11<00:00,  4.19it/s, Energy=-8.3364+0.0182j ± 0.0058 [σ²=0.0281, R̂=1.2479]]\n"
     ]
    },
    {
     "name": "stdout",
     "output_type": "stream",
     "text": [
      "running: N=22\n",
      "expecting energy -9.140599530554349\n"
     ]
    },
    {
     "name": "stderr",
     "output_type": "stream",
     "text": [
      "100%|██████████| 580/580 [03:15<00:00,  2.97it/s, Energy=-8.0869+0.0008j ± 0.0037 [σ²=0.0120, R̂=1.2719]]\n"
     ]
    },
    {
     "name": "stdout",
     "output_type": "stream",
     "text": [
      "running: N=24\n",
      "expecting energy -9.95527805040437\n"
     ]
    },
    {
     "name": "stderr",
     "output_type": "stream",
     "text": [
      "100%|██████████| 610/610 [04:29<00:00,  2.27it/s, Energy=-9.3466-0.0314j ± 0.0050 [σ²=0.0225, R̂=1.1965]]\n"
     ]
    },
    {
     "name": "stdout",
     "output_type": "stream",
     "text": [
      "running: N=26\n",
      "expecting energy -10.771154803111944\n"
     ]
    },
    {
     "name": "stderr",
     "output_type": "stream",
     "text": [
      "100%|██████████| 640/640 [06:18<00:00,  1.69it/s, Energy=-10.7601-0.0143j ± 0.0066 [σ²=0.0403, R̂=1.2295]]\n"
     ]
    },
    {
     "name": "stdout",
     "output_type": "stream",
     "text": [
      "running: N=28\n",
      "expecting energy -11.587973024493309\n"
     ]
    },
    {
     "name": "stderr",
     "output_type": "stream",
     "text": [
      "100%|██████████| 670/670 [08:45<00:00,  1.27it/s, Energy=-10.1374+0.0303j ± 0.0060 [σ²=0.0345, R̂=1.2066]]\n"
     ]
    }
   ],
   "source": [
    "for N in range(3, 29):\n",
    "    if not N % 2 == 0:\n",
    "        continue\n",
    "    \n",
    "    print(f'running: N={N}')\n",
    "\n",
    "    hs = haldane_shastry_model(N)\n",
    "    rbm = nk.models.RBM(alpha=1*max(1, N/10), param_dtype=complex, kernel_init=nn.initializers.normal(stddev=0.01))\n",
    "\n",
    "    hi = nk.hilbert.Spin(s=1/2, N=N)\n",
    "    sampler = nk.sampler.MetropolisLocal(hi)\n",
    "\n",
    "    vstate = nk.vqs.MCState(sampler, model=rbm, n_samples=512 + 16 * N)\n",
    "    optimizer = nk.optimizer.Sgd(learning_rate=0.05)\n",
    "    preconditioner = nk.optimizer.SR(diag_shift=0.1, holomorphic=False)\n",
    "    vmc = nk.driver.VMC(hs, optimizer, variational_state=vstate, preconditioner=preconditioner)\n",
    "\n",
    "    true_energy = -np.pi**2 / 24 * (N + 5 / N) \n",
    "    print('expecting energy', true_energy)\n",
    "\n",
    "    log = nk.logging.RuntimeLog()\n",
    "    vmc.run(n_iter=250 + 15 * N, out=log)\n",
    "    opt_energy = vstate.expect(hs)\n",
    "\n",
    "    nqs_en_x.append(N)\n",
    "    analytical_en_x.append(N)\n",
    "    nqs_en_y.append(opt_energy.mean.real)\n",
    "    analytical_en_y.append(true_energy)"
   ]
  },
  {
   "cell_type": "code",
   "execution_count": 17,
   "metadata": {},
   "outputs": [],
   "source": [
    "np.savetxt(\"../data/hs_outputs_2.txt\", np.column_stack((nqs_en_x, nqs_en_y, analytical_en_x, analytical_en_y)))"
   ]
  }
 ],
 "metadata": {
  "interpreter": {
   "hash": "a4490d07855ce6dbb083e5b55c7e7add8ece8ad50366222b47f99816f86d7c22"
  },
  "kernelspec": {
   "display_name": "Python 3.10.13 ('csci1470')",
   "language": "python",
   "name": "python3"
  },
  "language_info": {
   "codemirror_mode": {
    "name": "ipython",
    "version": 3
   },
   "file_extension": ".py",
   "mimetype": "text/x-python",
   "name": "python",
   "nbconvert_exporter": "python",
   "pygments_lexer": "ipython3",
   "version": "3.12.3"
  },
  "orig_nbformat": 4
 },
 "nbformat": 4,
 "nbformat_minor": 2
}
