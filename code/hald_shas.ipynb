{
 "cells": [
  {
   "cell_type": "markdown",
   "metadata": {},
   "source": [
    "$ \\frac{1}{4} \\sum_{m<n} J_{HS}(m-n)\\, \\vec{\\sigma}_m\\cdot\\vec{\\sigma}_n $ where $J_{HS}(m-n) = \\frac{\\\\pi^2}{N^2 \\sin^2 ((m-n)\\pi / N)}$, $N$ is number of sites. Use periodic boundary conditions"
   ]
  },
  {
   "cell_type": "code",
   "execution_count": 1,
   "metadata": {},
   "outputs": [],
   "source": [
    "import numpy as np\n",
    "import netket as nk\n",
    "import flax.linen  as nn\n",
    "from netket.operator.spin import sigmax, sigmay, sigmaz\n",
    "import matplotlib.pyplot as plt\n",
    "from src.hamiltonians import wrap_index"
   ]
  },
  {
   "cell_type": "code",
   "execution_count": 2,
   "metadata": {},
   "outputs": [],
   "source": [
    "def haldane_shastry_model(N):\n",
    "    hi = nk.hilbert.Spin(s=1/2, N=N)\n",
    "    sum = 0\n",
    "    for n in range(N):\n",
    "        for m in range(n):\n",
    "            hs = (np.pi**2) / (N**2 * (np.sin((wrap_index(N, n, m))*np.pi/N)**2))\n",
    "            x = sigmax(hi, m) * sigmax(hi, n)\n",
    "            y = sigmay(hi, m) * sigmay(hi, n)\n",
    "            z = sigmaz(hi, m) * sigmaz(hi, n)\n",
    "            sum += hs * (x+y+z)\n",
    "    return sum / 4"
   ]
  },
  {
   "cell_type": "code",
   "execution_count": 4,
   "metadata": {},
   "outputs": [],
   "source": [
    "nqs_en_x = []\n",
    "nqs_en_y = []\n",
    "analytical_en_x = []\n",
    "analytical_en_y = []"
   ]
  },
  {
   "cell_type": "code",
   "execution_count": null,
   "metadata": {},
   "outputs": [
    {
     "name": "stderr",
     "output_type": "stream",
     "text": [
      "/Users/lzawbrito/opt/miniconda3/envs/nqs/lib/python3.12/site-packages/netket/vqs/mc/mc_state/state.py:257: UserWarning: n_samples=500 (500 per device/MPI rank) does not divide n_chains=16, increased to 512 (512 per device/MPI rank)\n",
      "  self.n_samples = n_samples\n"
     ]
    },
    {
     "name": "stdout",
     "output_type": "stream",
     "text": [
      "expecting energy -11.587973024493309\n"
     ]
    },
    {
     "name": "stderr",
     "output_type": "stream",
     "text": [
      " 30%|██▉       | 200/670 [00:36<01:26,  5.43it/s, Energy=-10.092+0.008j ± 0.019 [σ²=0.186, R̂=1.0696]] \n"
     ]
    },
    {
     "ename": "SystemError",
     "evalue": "CPUDispatcher(<function LocalOperator._get_conn_flattened_kernel at 0x168a93240>) returned a result with an exception set",
     "output_type": "error",
     "traceback": [
      "\u001b[0;31m---------------------------------------------------------------------------\u001b[0m",
      "\u001b[0;31mKeyboardInterrupt\u001b[0m                         Traceback (most recent call last)",
      "File \u001b[0;32m~/opt/miniconda3/envs/nqs/lib/python3.12/site-packages/numba/core/serialize.py:30\u001b[0m, in \u001b[0;36m_numba_unpickle\u001b[0;34m(address, bytedata, hashed)\u001b[0m\n\u001b[1;32m     27\u001b[0m _unpickled_memo \u001b[38;5;241m=\u001b[39m {}\n\u001b[0;32m---> 30\u001b[0m \u001b[38;5;28;01mdef\u001b[39;00m \u001b[38;5;21m_numba_unpickle\u001b[39m(address, bytedata, hashed):\n\u001b[1;32m     31\u001b[0m \u001b[38;5;250m    \u001b[39m\u001b[38;5;124;03m\"\"\"Used by `numba_unpickle` from _helperlib.c\u001b[39;00m\n\u001b[1;32m     32\u001b[0m \n\u001b[1;32m     33\u001b[0m \u001b[38;5;124;03m    Parameters\u001b[39;00m\n\u001b[0;32m   (...)\u001b[0m\n\u001b[1;32m     42\u001b[0m \u001b[38;5;124;03m        unpickled object\u001b[39;00m\n\u001b[1;32m     43\u001b[0m \u001b[38;5;124;03m    \"\"\"\u001b[39;00m\n",
      "\u001b[0;31mKeyboardInterrupt\u001b[0m: ",
      "\nThe above exception was the direct cause of the following exception:\n",
      "\u001b[0;31mSystemError\u001b[0m                               Traceback (most recent call last)",
      "\u001b[0;31mSystemError\u001b[0m: <function _numba_unpickle at 0x15cf56020> returned a result with an exception set",
      "\nThe above exception was the direct cause of the following exception:\n",
      "\u001b[0;31mSystemError\u001b[0m                               Traceback (most recent call last)",
      "Cell \u001b[0;32mIn[8], line 16\u001b[0m\n\u001b[1;32m     14\u001b[0m log \u001b[38;5;241m=\u001b[39m nk\u001b[38;5;241m.\u001b[39mlogging\u001b[38;5;241m.\u001b[39mRuntimeLog()\n\u001b[1;32m     15\u001b[0m \u001b[38;5;28mprint\u001b[39m(\u001b[38;5;124m'\u001b[39m\u001b[38;5;124mexpecting energy\u001b[39m\u001b[38;5;124m'\u001b[39m, \u001b[38;5;241m-\u001b[39mnp\u001b[38;5;241m.\u001b[39mpi\u001b[38;5;241m*\u001b[39m\u001b[38;5;241m*\u001b[39m\u001b[38;5;241m2\u001b[39m \u001b[38;5;241m/\u001b[39m \u001b[38;5;241m24\u001b[39m \u001b[38;5;241m*\u001b[39m (N \u001b[38;5;241m+\u001b[39m \u001b[38;5;241m5\u001b[39m \u001b[38;5;241m/\u001b[39m N))\n\u001b[0;32m---> 16\u001b[0m \u001b[43mvmc\u001b[49m\u001b[38;5;241;43m.\u001b[39;49m\u001b[43mrun\u001b[49m\u001b[43m(\u001b[49m\u001b[43mn_iter\u001b[49m\u001b[38;5;241;43m=\u001b[39;49m\u001b[38;5;241;43m250\u001b[39;49m\u001b[43m \u001b[49m\u001b[38;5;241;43m+\u001b[39;49m\u001b[43m \u001b[49m\u001b[38;5;241;43m15\u001b[39;49m\u001b[43m \u001b[49m\u001b[38;5;241;43m*\u001b[39;49m\u001b[43m \u001b[49m\u001b[43mN\u001b[49m\u001b[43m,\u001b[49m\u001b[43m \u001b[49m\u001b[43mout\u001b[49m\u001b[38;5;241;43m=\u001b[39;49m\u001b[43mlog\u001b[49m\u001b[43m)\u001b[49m\n\u001b[1;32m     17\u001b[0m opt_energy \u001b[38;5;241m=\u001b[39m vstate\u001b[38;5;241m.\u001b[39mexpect(hs)\n",
      "File \u001b[0;32m~/opt/miniconda3/envs/nqs/lib/python3.12/site-packages/netket/driver/abstract_variational_driver.py:324\u001b[0m, in \u001b[0;36mAbstractVariationalDriver.run\u001b[0;34m(self, n_iter, out, obs, step_size, show_progress, save_params_every, write_every, callback)\u001b[0m\n\u001b[1;32m    321\u001b[0m old_step \u001b[38;5;241m=\u001b[39m \u001b[38;5;28mself\u001b[39m\u001b[38;5;241m.\u001b[39mstep_count\n\u001b[1;32m    322\u001b[0m first_step \u001b[38;5;241m=\u001b[39m \u001b[38;5;28;01mTrue\u001b[39;00m\n\u001b[0;32m--> 324\u001b[0m \u001b[43m\u001b[49m\u001b[38;5;28;43;01mfor\u001b[39;49;00m\u001b[43m \u001b[49m\u001b[43mstep\u001b[49m\u001b[43m \u001b[49m\u001b[38;5;129;43;01min\u001b[39;49;00m\u001b[43m \u001b[49m\u001b[38;5;28;43mself\u001b[39;49m\u001b[38;5;241;43m.\u001b[39;49m\u001b[43miter\u001b[49m\u001b[43m(\u001b[49m\u001b[43mn_iter\u001b[49m\u001b[43m,\u001b[49m\u001b[43m \u001b[49m\u001b[43mstep_size\u001b[49m\u001b[43m)\u001b[49m\u001b[43m:\u001b[49m\n\u001b[1;32m    325\u001b[0m \u001b[43m    \u001b[49m\u001b[43mlog_data\u001b[49m\u001b[43m \u001b[49m\u001b[38;5;241;43m=\u001b[39;49m\u001b[43m \u001b[49m\u001b[38;5;28;43mself\u001b[39;49m\u001b[38;5;241;43m.\u001b[39;49m\u001b[43mestimate\u001b[49m\u001b[43m(\u001b[49m\u001b[43mobs\u001b[49m\u001b[43m)\u001b[49m\n\u001b[1;32m    326\u001b[0m \u001b[43m    \u001b[49m\u001b[38;5;28;43mself\u001b[39;49m\u001b[38;5;241;43m.\u001b[39;49m\u001b[43m_log_additional_data\u001b[49m\u001b[43m(\u001b[49m\u001b[43mlog_data\u001b[49m\u001b[43m,\u001b[49m\u001b[43m \u001b[49m\u001b[43mstep\u001b[49m\u001b[43m)\u001b[49m\n",
      "File \u001b[0;32m~/opt/miniconda3/envs/nqs/lib/python3.12/site-packages/netket/driver/abstract_variational_driver.py:218\u001b[0m, in \u001b[0;36mAbstractVariationalDriver.iter\u001b[0;34m(self, n_steps, step)\u001b[0m\n\u001b[1;32m    216\u001b[0m \u001b[38;5;28;01mfor\u001b[39;00m _ \u001b[38;5;129;01min\u001b[39;00m \u001b[38;5;28mrange\u001b[39m(\u001b[38;5;241m0\u001b[39m, n_steps, step):\n\u001b[1;32m    217\u001b[0m     \u001b[38;5;28;01mfor\u001b[39;00m i \u001b[38;5;129;01min\u001b[39;00m \u001b[38;5;28mrange\u001b[39m(\u001b[38;5;241m0\u001b[39m, step):\n\u001b[0;32m--> 218\u001b[0m         dp \u001b[38;5;241m=\u001b[39m \u001b[38;5;28;43mself\u001b[39;49m\u001b[38;5;241;43m.\u001b[39;49m\u001b[43m_forward_and_backward\u001b[49m\u001b[43m(\u001b[49m\u001b[43m)\u001b[49m\n\u001b[1;32m    219\u001b[0m         \u001b[38;5;28;01mif\u001b[39;00m i \u001b[38;5;241m==\u001b[39m \u001b[38;5;241m0\u001b[39m:\n\u001b[1;32m    220\u001b[0m             \u001b[38;5;28;01myield\u001b[39;00m \u001b[38;5;28mself\u001b[39m\u001b[38;5;241m.\u001b[39mstep_count\n",
      "File \u001b[0;32m~/opt/miniconda3/envs/nqs/lib/python3.12/site-packages/netket/driver/vmc.py:126\u001b[0m, in \u001b[0;36mVMC._forward_and_backward\u001b[0;34m(self)\u001b[0m\n\u001b[1;32m    123\u001b[0m \u001b[38;5;28mself\u001b[39m\u001b[38;5;241m.\u001b[39mstate\u001b[38;5;241m.\u001b[39mreset()\n\u001b[1;32m    125\u001b[0m \u001b[38;5;66;03m# Compute the local energy estimator and average Energy\u001b[39;00m\n\u001b[0;32m--> 126\u001b[0m \u001b[38;5;28mself\u001b[39m\u001b[38;5;241m.\u001b[39m_loss_stats, \u001b[38;5;28mself\u001b[39m\u001b[38;5;241m.\u001b[39m_loss_grad \u001b[38;5;241m=\u001b[39m \u001b[38;5;28;43mself\u001b[39;49m\u001b[38;5;241;43m.\u001b[39;49m\u001b[43mstate\u001b[49m\u001b[38;5;241;43m.\u001b[39;49m\u001b[43mexpect_and_grad\u001b[49m\u001b[43m(\u001b[49m\u001b[38;5;28;43mself\u001b[39;49m\u001b[38;5;241;43m.\u001b[39;49m\u001b[43m_ham\u001b[49m\u001b[43m)\u001b[49m\n\u001b[1;32m    128\u001b[0m \u001b[38;5;66;03m# if it's the identity it does\u001b[39;00m\n\u001b[1;32m    129\u001b[0m \u001b[38;5;66;03m# self._dp = self._loss_grad\u001b[39;00m\n\u001b[1;32m    130\u001b[0m \u001b[38;5;28mself\u001b[39m\u001b[38;5;241m.\u001b[39m_dp \u001b[38;5;241m=\u001b[39m \u001b[38;5;28mself\u001b[39m\u001b[38;5;241m.\u001b[39mpreconditioner(\u001b[38;5;28mself\u001b[39m\u001b[38;5;241m.\u001b[39mstate, \u001b[38;5;28mself\u001b[39m\u001b[38;5;241m.\u001b[39m_loss_grad, \u001b[38;5;28mself\u001b[39m\u001b[38;5;241m.\u001b[39mstep_count)\n",
      "File \u001b[0;32m~/opt/miniconda3/envs/nqs/lib/python3.12/site-packages/netket/vqs/mc/mc_state/state.py:620\u001b[0m, in \u001b[0;36mMCState.expect_and_grad\u001b[0;34m(self, O, mutable, **kwargs)\u001b[0m\n\u001b[1;32m    617\u001b[0m \u001b[38;5;28;01mif\u001b[39;00m mutable \u001b[38;5;129;01mis\u001b[39;00m \u001b[38;5;28;01mNone\u001b[39;00m:\n\u001b[1;32m    618\u001b[0m     mutable \u001b[38;5;241m=\u001b[39m \u001b[38;5;28mself\u001b[39m\u001b[38;5;241m.\u001b[39mmutable\n\u001b[0;32m--> 620\u001b[0m \u001b[38;5;28;01mreturn\u001b[39;00m \u001b[43mexpect_and_grad\u001b[49m\u001b[43m(\u001b[49m\n\u001b[1;32m    621\u001b[0m \u001b[43m    \u001b[49m\u001b[38;5;28;43mself\u001b[39;49m\u001b[43m,\u001b[49m\n\u001b[1;32m    622\u001b[0m \u001b[43m    \u001b[49m\u001b[43mO\u001b[49m\u001b[43m,\u001b[49m\n\u001b[1;32m    623\u001b[0m \u001b[43m    \u001b[49m\u001b[38;5;28;43mself\u001b[39;49m\u001b[38;5;241;43m.\u001b[39;49m\u001b[43mchunk_size\u001b[49m\u001b[43m,\u001b[49m\n\u001b[1;32m    624\u001b[0m \u001b[43m    \u001b[49m\u001b[43mmutable\u001b[49m\u001b[38;5;241;43m=\u001b[39;49m\u001b[43mmutable\u001b[49m\u001b[43m,\u001b[49m\n\u001b[1;32m    625\u001b[0m \u001b[43m    \u001b[49m\u001b[38;5;241;43m*\u001b[39;49m\u001b[38;5;241;43m*\u001b[39;49m\u001b[43mkwargs\u001b[49m\u001b[43m,\u001b[49m\n\u001b[1;32m    626\u001b[0m \u001b[43m\u001b[49m\u001b[43m)\u001b[49m\n",
      "    \u001b[0;31m[... skipping hidden 1 frame]\u001b[0m\n",
      "File \u001b[0;32m~/opt/miniconda3/envs/nqs/lib/python3.12/site-packages/netket/vqs/mc/mc_state/expect_grad.py:58\u001b[0m, in \u001b[0;36mexpect_and_grad_default_formula\u001b[0;34m(vstate, Ô, chunk_size, mutable, use_covariance, *args)\u001b[0m\n\u001b[1;32m     51\u001b[0m     use_covariance \u001b[38;5;241m=\u001b[39m Ô\u001b[38;5;241m.\u001b[39mis_hermitian\n\u001b[1;32m     53\u001b[0m \u001b[38;5;28;01mif\u001b[39;00m use_covariance:\n\u001b[1;32m     54\u001b[0m     \u001b[38;5;66;03m# Implementation of expect_and_grad for `use_covariance == True` (due to the Literal[True]\u001b[39;00m\n\u001b[1;32m     55\u001b[0m     \u001b[38;5;66;03m# type in the signature).` This case is equivalent to the composition of the\u001b[39;00m\n\u001b[1;32m     56\u001b[0m     \u001b[38;5;66;03m# `expect_and_forces` and `force_to_grad` functions.\u001b[39;00m\n\u001b[1;32m     57\u001b[0m     \u001b[38;5;66;03m# return expect_and_grad_from_covariance(vstate, Ô, *args, mutable=mutable)\u001b[39;00m\n\u001b[0;32m---> 58\u001b[0m     Ō, Ō_grad \u001b[38;5;241m=\u001b[39m \u001b[43mexpect_and_forces\u001b[49m\u001b[43m(\u001b[49m\u001b[43mvstate\u001b[49m\u001b[43m,\u001b[49m\u001b[43m \u001b[49m\u001b[43mÔ\u001b[49m\u001b[43m,\u001b[49m\u001b[43m \u001b[49m\u001b[43mchunk_size\u001b[49m\u001b[43m,\u001b[49m\u001b[43m \u001b[49m\u001b[38;5;241;43m*\u001b[39;49m\u001b[43margs\u001b[49m\u001b[43m,\u001b[49m\u001b[43m \u001b[49m\u001b[43mmutable\u001b[49m\u001b[38;5;241;43m=\u001b[39;49m\u001b[43mmutable\u001b[49m\u001b[43m)\u001b[49m\n\u001b[1;32m     59\u001b[0m     Ō_grad \u001b[38;5;241m=\u001b[39m force_to_grad(Ō_grad, vstate\u001b[38;5;241m.\u001b[39mparameters)\n\u001b[1;32m     60\u001b[0m     \u001b[38;5;28;01mreturn\u001b[39;00m Ō, Ō_grad\n",
      "    \u001b[0;31m[... skipping hidden 1 frame]\u001b[0m\n",
      "File \u001b[0;32m~/opt/miniconda3/envs/nqs/lib/python3.12/site-packages/netket/vqs/mc/mc_state/expect_forces.py:48\u001b[0m, in \u001b[0;36mexpect_and_forces\u001b[0;34m(vstate, Ô, chunk_size, mutable)\u001b[0m\n\u001b[1;32m     40\u001b[0m \u001b[38;5;129m@dispatch\u001b[39m\n\u001b[1;32m     41\u001b[0m \u001b[38;5;28;01mdef\u001b[39;00m \u001b[38;5;21mexpect_and_forces\u001b[39m(  \u001b[38;5;66;03m# noqa: F811\u001b[39;00m\n\u001b[1;32m     42\u001b[0m     vstate: MCState,\n\u001b[0;32m   (...)\u001b[0m\n\u001b[1;32m     46\u001b[0m     mutable: CollectionFilter \u001b[38;5;241m=\u001b[39m \u001b[38;5;28;01mFalse\u001b[39;00m,\n\u001b[1;32m     47\u001b[0m ) \u001b[38;5;241m-\u001b[39m\u001b[38;5;241m>\u001b[39m \u001b[38;5;28mtuple\u001b[39m[Stats, PyTree]:\n\u001b[0;32m---> 48\u001b[0m     σ, args \u001b[38;5;241m=\u001b[39m \u001b[43mget_local_kernel_arguments\u001b[49m\u001b[43m(\u001b[49m\u001b[43mvstate\u001b[49m\u001b[43m,\u001b[49m\u001b[43m \u001b[49m\u001b[43mÔ\u001b[49m\u001b[43m)\u001b[49m\n\u001b[1;32m     50\u001b[0m     local_estimator_fun \u001b[38;5;241m=\u001b[39m get_local_kernel(vstate, Ô)\n\u001b[1;32m     52\u001b[0m     Ō, Ō_grad, new_model_state \u001b[38;5;241m=\u001b[39m forces_expect_hermitian(\n\u001b[1;32m     53\u001b[0m         local_estimator_fun,\n\u001b[1;32m     54\u001b[0m         vstate\u001b[38;5;241m.\u001b[39m_apply_fun,\n\u001b[0;32m   (...)\u001b[0m\n\u001b[1;32m     59\u001b[0m         args,\n\u001b[1;32m     60\u001b[0m     )\n",
      "    \u001b[0;31m[... skipping hidden 1 frame]\u001b[0m\n",
      "File \u001b[0;32m~/opt/miniconda3/envs/nqs/lib/python3.12/site-packages/netket/vqs/mc/mc_state/expect.py:62\u001b[0m, in \u001b[0;36mget_local_kernel_arguments\u001b[0;34m(vstate, Ô)\u001b[0m\n\u001b[1;32m     59\u001b[0m check_hilbert(vstate\u001b[38;5;241m.\u001b[39mhilbert, Ô\u001b[38;5;241m.\u001b[39mhilbert)\n\u001b[1;32m     61\u001b[0m σ \u001b[38;5;241m=\u001b[39m vstate\u001b[38;5;241m.\u001b[39msamples\n\u001b[0;32m---> 62\u001b[0m σp, mels \u001b[38;5;241m=\u001b[39m \u001b[43mÔ\u001b[49m\u001b[38;5;241;43m.\u001b[39;49m\u001b[43mget_conn_padded\u001b[49m\u001b[43m(\u001b[49m\u001b[43mσ\u001b[49m\u001b[43m)\u001b[49m\n\u001b[1;32m     63\u001b[0m \u001b[38;5;28;01mreturn\u001b[39;00m σ, (σp, mels)\n",
      "File \u001b[0;32m~/opt/miniconda3/envs/nqs/lib/python3.12/site-packages/netket/operator/_discrete_operator.py:73\u001b[0m, in \u001b[0;36mDiscreteOperator.get_conn_padded\u001b[0;34m(self, x)\u001b[0m\n\u001b[1;32m     70\u001b[0m n_samples \u001b[38;5;241m=\u001b[39m x\u001b[38;5;241m.\u001b[39msize \u001b[38;5;241m/\u001b[39m\u001b[38;5;241m/\u001b[39m n_visible\n\u001b[1;32m     72\u001b[0m sections \u001b[38;5;241m=\u001b[39m np\u001b[38;5;241m.\u001b[39mempty(n_samples, dtype\u001b[38;5;241m=\u001b[39mnp\u001b[38;5;241m.\u001b[39mint32)\n\u001b[0;32m---> 73\u001b[0m x_primes, mels \u001b[38;5;241m=\u001b[39m \u001b[38;5;28;43mself\u001b[39;49m\u001b[38;5;241;43m.\u001b[39;49m\u001b[43mget_conn_flattened\u001b[49m\u001b[43m(\u001b[49m\n\u001b[1;32m     74\u001b[0m \u001b[43m    \u001b[49m\u001b[43mx\u001b[49m\u001b[38;5;241;43m.\u001b[39;49m\u001b[43mreshape\u001b[49m\u001b[43m(\u001b[49m\u001b[38;5;241;43m-\u001b[39;49m\u001b[38;5;241;43m1\u001b[39;49m\u001b[43m,\u001b[49m\u001b[43m \u001b[49m\u001b[43mx\u001b[49m\u001b[38;5;241;43m.\u001b[39;49m\u001b[43mshape\u001b[49m\u001b[43m[\u001b[49m\u001b[38;5;241;43m-\u001b[39;49m\u001b[38;5;241;43m1\u001b[39;49m\u001b[43m]\u001b[49m\u001b[43m)\u001b[49m\u001b[43m,\u001b[49m\u001b[43m \u001b[49m\u001b[43msections\u001b[49m\u001b[43m,\u001b[49m\u001b[43m \u001b[49m\u001b[43mpad\u001b[49m\u001b[38;5;241;43m=\u001b[39;49m\u001b[38;5;28;43;01mTrue\u001b[39;49;00m\n\u001b[1;32m     75\u001b[0m \u001b[43m\u001b[49m\u001b[43m)\u001b[49m\n\u001b[1;32m     77\u001b[0m n_primes \u001b[38;5;241m=\u001b[39m sections[\u001b[38;5;241m0\u001b[39m]\n\u001b[1;32m     79\u001b[0m x_primes_r \u001b[38;5;241m=\u001b[39m x_primes\u001b[38;5;241m.\u001b[39mreshape(\u001b[38;5;241m*\u001b[39mx\u001b[38;5;241m.\u001b[39mshape[:\u001b[38;5;241m-\u001b[39m\u001b[38;5;241m1\u001b[39m], n_primes, n_visible)\n",
      "File \u001b[0;32m~/opt/miniconda3/envs/nqs/lib/python3.12/site-packages/netket/operator/_local_operator/numba.py:92\u001b[0m, in \u001b[0;36mLocalOperator.get_conn_flattened\u001b[0;34m(self, x, sections, pad)\u001b[0m\n\u001b[1;32m     83\u001b[0m \u001b[38;5;28mself\u001b[39m\u001b[38;5;241m.\u001b[39m_setup()\n\u001b[1;32m     85\u001b[0m x \u001b[38;5;241m=\u001b[39m concrete_or_error(\n\u001b[1;32m     86\u001b[0m     np\u001b[38;5;241m.\u001b[39masarray,\n\u001b[1;32m     87\u001b[0m     x,\n\u001b[1;32m     88\u001b[0m     NumbaOperatorGetConnDuringTracingError,\n\u001b[1;32m     89\u001b[0m     \u001b[38;5;28mself\u001b[39m,\n\u001b[1;32m     90\u001b[0m )\n\u001b[0;32m---> 92\u001b[0m \u001b[38;5;28;01mreturn\u001b[39;00m \u001b[38;5;28;43mself\u001b[39;49m\u001b[38;5;241;43m.\u001b[39;49m\u001b[43m_get_conn_flattened_kernel\u001b[49m\u001b[43m(\u001b[49m\n\u001b[1;32m     93\u001b[0m \u001b[43m    \u001b[49m\u001b[43mx\u001b[49m\u001b[43m,\u001b[49m\n\u001b[1;32m     94\u001b[0m \u001b[43m    \u001b[49m\u001b[43msections\u001b[49m\u001b[43m,\u001b[49m\n\u001b[1;32m     95\u001b[0m \u001b[43m    \u001b[49m\u001b[38;5;28;43mself\u001b[39;49m\u001b[38;5;241;43m.\u001b[39;49m\u001b[43m_local_states\u001b[49m\u001b[43m,\u001b[49m\n\u001b[1;32m     96\u001b[0m \u001b[43m    \u001b[49m\u001b[38;5;28;43mself\u001b[39;49m\u001b[38;5;241;43m.\u001b[39;49m\u001b[43m_basis\u001b[49m\u001b[43m,\u001b[49m\n\u001b[1;32m     97\u001b[0m \u001b[43m    \u001b[49m\u001b[38;5;28;43mself\u001b[39;49m\u001b[38;5;241;43m.\u001b[39;49m\u001b[43m_constant\u001b[49m\u001b[43m,\u001b[49m\n\u001b[1;32m     98\u001b[0m \u001b[43m    \u001b[49m\u001b[38;5;28;43mself\u001b[39;49m\u001b[38;5;241;43m.\u001b[39;49m\u001b[43m_diag_mels\u001b[49m\u001b[43m,\u001b[49m\n\u001b[1;32m     99\u001b[0m \u001b[43m    \u001b[49m\u001b[38;5;28;43mself\u001b[39;49m\u001b[38;5;241;43m.\u001b[39;49m\u001b[43m_n_conns\u001b[49m\u001b[43m,\u001b[49m\n\u001b[1;32m    100\u001b[0m \u001b[43m    \u001b[49m\u001b[38;5;28;43mself\u001b[39;49m\u001b[38;5;241;43m.\u001b[39;49m\u001b[43m_mels\u001b[49m\u001b[43m,\u001b[49m\n\u001b[1;32m    101\u001b[0m \u001b[43m    \u001b[49m\u001b[38;5;28;43mself\u001b[39;49m\u001b[38;5;241;43m.\u001b[39;49m\u001b[43m_x_prime\u001b[49m\u001b[43m,\u001b[49m\n\u001b[1;32m    102\u001b[0m \u001b[43m    \u001b[49m\u001b[38;5;28;43mself\u001b[39;49m\u001b[38;5;241;43m.\u001b[39;49m\u001b[43m_acting_on\u001b[49m\u001b[43m,\u001b[49m\n\u001b[1;32m    103\u001b[0m \u001b[43m    \u001b[49m\u001b[38;5;28;43mself\u001b[39;49m\u001b[38;5;241;43m.\u001b[39;49m\u001b[43m_acting_size\u001b[49m\u001b[43m,\u001b[49m\n\u001b[1;32m    104\u001b[0m \u001b[43m    \u001b[49m\u001b[38;5;28;43mself\u001b[39;49m\u001b[38;5;241;43m.\u001b[39;49m\u001b[43m_nonzero_diagonal\u001b[49m\u001b[43m,\u001b[49m\n\u001b[1;32m    105\u001b[0m \u001b[43m    \u001b[49m\u001b[43mpad\u001b[49m\u001b[43m,\u001b[49m\n\u001b[1;32m    106\u001b[0m \u001b[43m\u001b[49m\u001b[43m)\u001b[49m\n",
      "\u001b[0;31mSystemError\u001b[0m: CPUDispatcher(<function LocalOperator._get_conn_flattened_kernel at 0x168a93240>) returned a result with an exception set"
     ]
    }
   ],
   "source": [
    "# N = 28\n",
    "\n",
    "# hs = haldane_shastry_model(N)\n",
    "# rbm = nk.models.RBM(alpha=1, param_dtype=complex, kernel_init=nn.initializers.normal(stddev=0.01))\n",
    "\n",
    "# hi = nk.hilbert.Spin(s=1/2, N=N)\n",
    "# sampler = nk.sampler.MetropolisLocal(hi)\n",
    "\n",
    "# vstate = nk.vqs.MCState(sampler, model=rbm, n_samples=500)\n",
    "# optimizer = nk.optimizer.Sgd(learning_rate=0.1)\n",
    "# preconditioner = nk.optimizer.SR(diag_shift=0.1, holomorphic=False)\n",
    "# vmc = nk.driver.VMC(hs, optimizer, variational_state=vstate, preconditioner=preconditioner)\n",
    "\n",
    "# log = nk.logging.RuntimeLog()\n",
    "# print('expecting energy', -np.pi**2 / 24 * (N + 5 / N))\n",
    "# vmc.run(n_iter=250 + 15 * N, out=log)\n",
    "# opt_energy = vstate.expect(hs)"
   ]
  },
  {
   "cell_type": "code",
   "execution_count": 13,
   "metadata": {},
   "outputs": [
    {
     "name": "stdout",
     "output_type": "stream",
     "text": [
      "running: N=28\n",
      "expecting energy -11.587973024493309\n"
     ]
    },
    {
     "name": "stderr",
     "output_type": "stream",
     "text": [
      "  1%|▏         | 12/920 [00:17<22:27,  1.48s/it, Energy=11.145+0.047j ± 0.030 [σ²=0.893, R̂=1.0121]]   \n"
     ]
    },
    {
     "ename": "KeyboardInterrupt",
     "evalue": "",
     "output_type": "error",
     "traceback": [
      "\u001b[0;31m---------------------------------------------------------------------------\u001b[0m",
      "\u001b[0;31mKeyboardInterrupt\u001b[0m                         Traceback (most recent call last)",
      "Cell \u001b[0;32mIn[13], line 22\u001b[0m\n\u001b[1;32m     19\u001b[0m \u001b[38;5;28mprint\u001b[39m(\u001b[38;5;124m'\u001b[39m\u001b[38;5;124mexpecting energy\u001b[39m\u001b[38;5;124m'\u001b[39m, true_energy)\n\u001b[1;32m     21\u001b[0m log \u001b[38;5;241m=\u001b[39m nk\u001b[38;5;241m.\u001b[39mlogging\u001b[38;5;241m.\u001b[39mRuntimeLog()\n\u001b[0;32m---> 22\u001b[0m \u001b[43mvmc\u001b[49m\u001b[38;5;241;43m.\u001b[39;49m\u001b[43mrun\u001b[49m\u001b[43m(\u001b[49m\u001b[43mn_iter\u001b[49m\u001b[38;5;241;43m=\u001b[39;49m\u001b[38;5;241;43m500\u001b[39;49m\u001b[43m \u001b[49m\u001b[38;5;241;43m+\u001b[39;49m\u001b[43m \u001b[49m\u001b[38;5;241;43m15\u001b[39;49m\u001b[43m \u001b[49m\u001b[38;5;241;43m*\u001b[39;49m\u001b[43m \u001b[49m\u001b[43mN\u001b[49m\u001b[43m,\u001b[49m\u001b[43m \u001b[49m\u001b[43mout\u001b[49m\u001b[38;5;241;43m=\u001b[39;49m\u001b[43mlog\u001b[49m\u001b[43m)\u001b[49m\n\u001b[1;32m     23\u001b[0m opt_energy \u001b[38;5;241m=\u001b[39m vstate\u001b[38;5;241m.\u001b[39mexpect(hs)\n\u001b[1;32m     25\u001b[0m nqs_en_x\u001b[38;5;241m.\u001b[39mappend(N)\n",
      "File \u001b[0;32m~/opt/miniconda3/envs/nqs/lib/python3.12/site-packages/netket/driver/abstract_variational_driver.py:324\u001b[0m, in \u001b[0;36mAbstractVariationalDriver.run\u001b[0;34m(self, n_iter, out, obs, step_size, show_progress, save_params_every, write_every, callback)\u001b[0m\n\u001b[1;32m    321\u001b[0m old_step \u001b[38;5;241m=\u001b[39m \u001b[38;5;28mself\u001b[39m\u001b[38;5;241m.\u001b[39mstep_count\n\u001b[1;32m    322\u001b[0m first_step \u001b[38;5;241m=\u001b[39m \u001b[38;5;28;01mTrue\u001b[39;00m\n\u001b[0;32m--> 324\u001b[0m \u001b[43m\u001b[49m\u001b[38;5;28;43;01mfor\u001b[39;49;00m\u001b[43m \u001b[49m\u001b[43mstep\u001b[49m\u001b[43m \u001b[49m\u001b[38;5;129;43;01min\u001b[39;49;00m\u001b[43m \u001b[49m\u001b[38;5;28;43mself\u001b[39;49m\u001b[38;5;241;43m.\u001b[39;49m\u001b[43miter\u001b[49m\u001b[43m(\u001b[49m\u001b[43mn_iter\u001b[49m\u001b[43m,\u001b[49m\u001b[43m \u001b[49m\u001b[43mstep_size\u001b[49m\u001b[43m)\u001b[49m\u001b[43m:\u001b[49m\n\u001b[1;32m    325\u001b[0m \u001b[43m    \u001b[49m\u001b[43mlog_data\u001b[49m\u001b[43m \u001b[49m\u001b[38;5;241;43m=\u001b[39;49m\u001b[43m \u001b[49m\u001b[38;5;28;43mself\u001b[39;49m\u001b[38;5;241;43m.\u001b[39;49m\u001b[43mestimate\u001b[49m\u001b[43m(\u001b[49m\u001b[43mobs\u001b[49m\u001b[43m)\u001b[49m\n\u001b[1;32m    326\u001b[0m \u001b[43m    \u001b[49m\u001b[38;5;28;43mself\u001b[39;49m\u001b[38;5;241;43m.\u001b[39;49m\u001b[43m_log_additional_data\u001b[49m\u001b[43m(\u001b[49m\u001b[43mlog_data\u001b[49m\u001b[43m,\u001b[49m\u001b[43m \u001b[49m\u001b[43mstep\u001b[49m\u001b[43m)\u001b[49m\n",
      "File \u001b[0;32m~/opt/miniconda3/envs/nqs/lib/python3.12/site-packages/netket/driver/abstract_variational_driver.py:218\u001b[0m, in \u001b[0;36mAbstractVariationalDriver.iter\u001b[0;34m(self, n_steps, step)\u001b[0m\n\u001b[1;32m    216\u001b[0m \u001b[38;5;28;01mfor\u001b[39;00m _ \u001b[38;5;129;01min\u001b[39;00m \u001b[38;5;28mrange\u001b[39m(\u001b[38;5;241m0\u001b[39m, n_steps, step):\n\u001b[1;32m    217\u001b[0m     \u001b[38;5;28;01mfor\u001b[39;00m i \u001b[38;5;129;01min\u001b[39;00m \u001b[38;5;28mrange\u001b[39m(\u001b[38;5;241m0\u001b[39m, step):\n\u001b[0;32m--> 218\u001b[0m         dp \u001b[38;5;241m=\u001b[39m \u001b[38;5;28;43mself\u001b[39;49m\u001b[38;5;241;43m.\u001b[39;49m\u001b[43m_forward_and_backward\u001b[49m\u001b[43m(\u001b[49m\u001b[43m)\u001b[49m\n\u001b[1;32m    219\u001b[0m         \u001b[38;5;28;01mif\u001b[39;00m i \u001b[38;5;241m==\u001b[39m \u001b[38;5;241m0\u001b[39m:\n\u001b[1;32m    220\u001b[0m             \u001b[38;5;28;01myield\u001b[39;00m \u001b[38;5;28mself\u001b[39m\u001b[38;5;241m.\u001b[39mstep_count\n",
      "File \u001b[0;32m~/opt/miniconda3/envs/nqs/lib/python3.12/site-packages/netket/driver/vmc.py:126\u001b[0m, in \u001b[0;36mVMC._forward_and_backward\u001b[0;34m(self)\u001b[0m\n\u001b[1;32m    123\u001b[0m \u001b[38;5;28mself\u001b[39m\u001b[38;5;241m.\u001b[39mstate\u001b[38;5;241m.\u001b[39mreset()\n\u001b[1;32m    125\u001b[0m \u001b[38;5;66;03m# Compute the local energy estimator and average Energy\u001b[39;00m\n\u001b[0;32m--> 126\u001b[0m \u001b[38;5;28mself\u001b[39m\u001b[38;5;241m.\u001b[39m_loss_stats, \u001b[38;5;28mself\u001b[39m\u001b[38;5;241m.\u001b[39m_loss_grad \u001b[38;5;241m=\u001b[39m \u001b[38;5;28;43mself\u001b[39;49m\u001b[38;5;241;43m.\u001b[39;49m\u001b[43mstate\u001b[49m\u001b[38;5;241;43m.\u001b[39;49m\u001b[43mexpect_and_grad\u001b[49m\u001b[43m(\u001b[49m\u001b[38;5;28;43mself\u001b[39;49m\u001b[38;5;241;43m.\u001b[39;49m\u001b[43m_ham\u001b[49m\u001b[43m)\u001b[49m\n\u001b[1;32m    128\u001b[0m \u001b[38;5;66;03m# if it's the identity it does\u001b[39;00m\n\u001b[1;32m    129\u001b[0m \u001b[38;5;66;03m# self._dp = self._loss_grad\u001b[39;00m\n\u001b[1;32m    130\u001b[0m \u001b[38;5;28mself\u001b[39m\u001b[38;5;241m.\u001b[39m_dp \u001b[38;5;241m=\u001b[39m \u001b[38;5;28mself\u001b[39m\u001b[38;5;241m.\u001b[39mpreconditioner(\u001b[38;5;28mself\u001b[39m\u001b[38;5;241m.\u001b[39mstate, \u001b[38;5;28mself\u001b[39m\u001b[38;5;241m.\u001b[39m_loss_grad, \u001b[38;5;28mself\u001b[39m\u001b[38;5;241m.\u001b[39mstep_count)\n",
      "File \u001b[0;32m~/opt/miniconda3/envs/nqs/lib/python3.12/site-packages/netket/vqs/mc/mc_state/state.py:620\u001b[0m, in \u001b[0;36mMCState.expect_and_grad\u001b[0;34m(self, O, mutable, **kwargs)\u001b[0m\n\u001b[1;32m    617\u001b[0m \u001b[38;5;28;01mif\u001b[39;00m mutable \u001b[38;5;129;01mis\u001b[39;00m \u001b[38;5;28;01mNone\u001b[39;00m:\n\u001b[1;32m    618\u001b[0m     mutable \u001b[38;5;241m=\u001b[39m \u001b[38;5;28mself\u001b[39m\u001b[38;5;241m.\u001b[39mmutable\n\u001b[0;32m--> 620\u001b[0m \u001b[38;5;28;01mreturn\u001b[39;00m \u001b[43mexpect_and_grad\u001b[49m\u001b[43m(\u001b[49m\n\u001b[1;32m    621\u001b[0m \u001b[43m    \u001b[49m\u001b[38;5;28;43mself\u001b[39;49m\u001b[43m,\u001b[49m\n\u001b[1;32m    622\u001b[0m \u001b[43m    \u001b[49m\u001b[43mO\u001b[49m\u001b[43m,\u001b[49m\n\u001b[1;32m    623\u001b[0m \u001b[43m    \u001b[49m\u001b[38;5;28;43mself\u001b[39;49m\u001b[38;5;241;43m.\u001b[39;49m\u001b[43mchunk_size\u001b[49m\u001b[43m,\u001b[49m\n\u001b[1;32m    624\u001b[0m \u001b[43m    \u001b[49m\u001b[43mmutable\u001b[49m\u001b[38;5;241;43m=\u001b[39;49m\u001b[43mmutable\u001b[49m\u001b[43m,\u001b[49m\n\u001b[1;32m    625\u001b[0m \u001b[43m    \u001b[49m\u001b[38;5;241;43m*\u001b[39;49m\u001b[38;5;241;43m*\u001b[39;49m\u001b[43mkwargs\u001b[49m\u001b[43m,\u001b[49m\n\u001b[1;32m    626\u001b[0m \u001b[43m\u001b[49m\u001b[43m)\u001b[49m\n",
      "    \u001b[0;31m[... skipping hidden 1 frame]\u001b[0m\n",
      "File \u001b[0;32m~/opt/miniconda3/envs/nqs/lib/python3.12/site-packages/netket/vqs/mc/mc_state/expect_grad.py:58\u001b[0m, in \u001b[0;36mexpect_and_grad_default_formula\u001b[0;34m(vstate, Ô, chunk_size, mutable, use_covariance, *args)\u001b[0m\n\u001b[1;32m     51\u001b[0m     use_covariance \u001b[38;5;241m=\u001b[39m Ô\u001b[38;5;241m.\u001b[39mis_hermitian\n\u001b[1;32m     53\u001b[0m \u001b[38;5;28;01mif\u001b[39;00m use_covariance:\n\u001b[1;32m     54\u001b[0m     \u001b[38;5;66;03m# Implementation of expect_and_grad for `use_covariance == True` (due to the Literal[True]\u001b[39;00m\n\u001b[1;32m     55\u001b[0m     \u001b[38;5;66;03m# type in the signature).` This case is equivalent to the composition of the\u001b[39;00m\n\u001b[1;32m     56\u001b[0m     \u001b[38;5;66;03m# `expect_and_forces` and `force_to_grad` functions.\u001b[39;00m\n\u001b[1;32m     57\u001b[0m     \u001b[38;5;66;03m# return expect_and_grad_from_covariance(vstate, Ô, *args, mutable=mutable)\u001b[39;00m\n\u001b[0;32m---> 58\u001b[0m     Ō, Ō_grad \u001b[38;5;241m=\u001b[39m \u001b[43mexpect_and_forces\u001b[49m\u001b[43m(\u001b[49m\u001b[43mvstate\u001b[49m\u001b[43m,\u001b[49m\u001b[43m \u001b[49m\u001b[43mÔ\u001b[49m\u001b[43m,\u001b[49m\u001b[43m \u001b[49m\u001b[43mchunk_size\u001b[49m\u001b[43m,\u001b[49m\u001b[43m \u001b[49m\u001b[38;5;241;43m*\u001b[39;49m\u001b[43margs\u001b[49m\u001b[43m,\u001b[49m\u001b[43m \u001b[49m\u001b[43mmutable\u001b[49m\u001b[38;5;241;43m=\u001b[39;49m\u001b[43mmutable\u001b[49m\u001b[43m)\u001b[49m\n\u001b[1;32m     59\u001b[0m     Ō_grad \u001b[38;5;241m=\u001b[39m force_to_grad(Ō_grad, vstate\u001b[38;5;241m.\u001b[39mparameters)\n\u001b[1;32m     60\u001b[0m     \u001b[38;5;28;01mreturn\u001b[39;00m Ō, Ō_grad\n",
      "    \u001b[0;31m[... skipping hidden 1 frame]\u001b[0m\n",
      "File \u001b[0;32m~/opt/miniconda3/envs/nqs/lib/python3.12/site-packages/netket/vqs/mc/mc_state/expect_forces.py:48\u001b[0m, in \u001b[0;36mexpect_and_forces\u001b[0;34m(vstate, Ô, chunk_size, mutable)\u001b[0m\n\u001b[1;32m     40\u001b[0m \u001b[38;5;129m@dispatch\u001b[39m\n\u001b[1;32m     41\u001b[0m \u001b[38;5;28;01mdef\u001b[39;00m \u001b[38;5;21mexpect_and_forces\u001b[39m(  \u001b[38;5;66;03m# noqa: F811\u001b[39;00m\n\u001b[1;32m     42\u001b[0m     vstate: MCState,\n\u001b[0;32m   (...)\u001b[0m\n\u001b[1;32m     46\u001b[0m     mutable: CollectionFilter \u001b[38;5;241m=\u001b[39m \u001b[38;5;28;01mFalse\u001b[39;00m,\n\u001b[1;32m     47\u001b[0m ) \u001b[38;5;241m-\u001b[39m\u001b[38;5;241m>\u001b[39m \u001b[38;5;28mtuple\u001b[39m[Stats, PyTree]:\n\u001b[0;32m---> 48\u001b[0m     σ, args \u001b[38;5;241m=\u001b[39m \u001b[43mget_local_kernel_arguments\u001b[49m\u001b[43m(\u001b[49m\u001b[43mvstate\u001b[49m\u001b[43m,\u001b[49m\u001b[43m \u001b[49m\u001b[43mÔ\u001b[49m\u001b[43m)\u001b[49m\n\u001b[1;32m     50\u001b[0m     local_estimator_fun \u001b[38;5;241m=\u001b[39m get_local_kernel(vstate, Ô)\n\u001b[1;32m     52\u001b[0m     Ō, Ō_grad, new_model_state \u001b[38;5;241m=\u001b[39m forces_expect_hermitian(\n\u001b[1;32m     53\u001b[0m         local_estimator_fun,\n\u001b[1;32m     54\u001b[0m         vstate\u001b[38;5;241m.\u001b[39m_apply_fun,\n\u001b[0;32m   (...)\u001b[0m\n\u001b[1;32m     59\u001b[0m         args,\n\u001b[1;32m     60\u001b[0m     )\n",
      "    \u001b[0;31m[... skipping hidden 1 frame]\u001b[0m\n",
      "File \u001b[0;32m~/opt/miniconda3/envs/nqs/lib/python3.12/site-packages/netket/vqs/mc/mc_state/expect.py:61\u001b[0m, in \u001b[0;36mget_local_kernel_arguments\u001b[0;34m(vstate, Ô)\u001b[0m\n\u001b[1;32m     57\u001b[0m \u001b[38;5;129m@dispatch\u001b[39m\n\u001b[1;32m     58\u001b[0m \u001b[38;5;28;01mdef\u001b[39;00m \u001b[38;5;21mget_local_kernel_arguments\u001b[39m(vstate: MCState, Ô: DiscreteOperator):  \u001b[38;5;66;03m# noqa: F811\u001b[39;00m\n\u001b[1;32m     59\u001b[0m     check_hilbert(vstate\u001b[38;5;241m.\u001b[39mhilbert, Ô\u001b[38;5;241m.\u001b[39mhilbert)\n\u001b[0;32m---> 61\u001b[0m     σ \u001b[38;5;241m=\u001b[39m \u001b[43mvstate\u001b[49m\u001b[38;5;241;43m.\u001b[39;49m\u001b[43msamples\u001b[49m\n\u001b[1;32m     62\u001b[0m     σp, mels \u001b[38;5;241m=\u001b[39m Ô\u001b[38;5;241m.\u001b[39mget_conn_padded(σ)\n\u001b[1;32m     63\u001b[0m     \u001b[38;5;28;01mreturn\u001b[39;00m σ, (σp, mels)\n",
      "File \u001b[0;32m~/opt/miniconda3/envs/nqs/lib/python3.12/site-packages/netket/vqs/mc/mc_state/state.py:522\u001b[0m, in \u001b[0;36mMCState.samples\u001b[0;34m(self)\u001b[0m\n\u001b[1;32m    511\u001b[0m \u001b[38;5;250m\u001b[39m\u001b[38;5;124;03m\"\"\"\u001b[39;00m\n\u001b[1;32m    512\u001b[0m \u001b[38;5;124;03mReturns the set of cached samples.\u001b[39;00m\n\u001b[1;32m    513\u001b[0m \n\u001b[0;32m   (...)\u001b[0m\n\u001b[1;32m    519\u001b[0m \u001b[38;5;124;03m:meth:`~MCState.reset` or :meth:`~MCState.sample`.\u001b[39;00m\n\u001b[1;32m    520\u001b[0m \u001b[38;5;124;03m\"\"\"\u001b[39;00m\n\u001b[1;32m    521\u001b[0m \u001b[38;5;28;01mif\u001b[39;00m \u001b[38;5;28mself\u001b[39m\u001b[38;5;241m.\u001b[39m_samples \u001b[38;5;129;01mis\u001b[39;00m \u001b[38;5;28;01mNone\u001b[39;00m:\n\u001b[0;32m--> 522\u001b[0m     \u001b[38;5;28;43mself\u001b[39;49m\u001b[38;5;241;43m.\u001b[39;49m\u001b[43msample\u001b[49m\u001b[43m(\u001b[49m\u001b[43m)\u001b[49m\n\u001b[1;32m    523\u001b[0m \u001b[38;5;28;01mreturn\u001b[39;00m \u001b[38;5;28mself\u001b[39m\u001b[38;5;241m.\u001b[39m_samples\n",
      "File \u001b[0;32m~/opt/miniconda3/envs/nqs/lib/python3.12/site-packages/netket/vqs/mc/mc_state/state.py:494\u001b[0m, in \u001b[0;36mMCState.sample\u001b[0;34m(self, chain_length, n_samples, n_discard_per_chain)\u001b[0m\n\u001b[1;32m    489\u001b[0m \u001b[38;5;28mself\u001b[39m\u001b[38;5;241m.\u001b[39msampler_state \u001b[38;5;241m=\u001b[39m \u001b[38;5;28mself\u001b[39m\u001b[38;5;241m.\u001b[39msampler\u001b[38;5;241m.\u001b[39mreset(\n\u001b[1;32m    490\u001b[0m     \u001b[38;5;28mself\u001b[39m\u001b[38;5;241m.\u001b[39mmodel, \u001b[38;5;28mself\u001b[39m\u001b[38;5;241m.\u001b[39mvariables, \u001b[38;5;28mself\u001b[39m\u001b[38;5;241m.\u001b[39msampler_state\n\u001b[1;32m    491\u001b[0m )\n\u001b[1;32m    493\u001b[0m \u001b[38;5;28;01mif\u001b[39;00m \u001b[38;5;28mself\u001b[39m\u001b[38;5;241m.\u001b[39mn_discard_per_chain \u001b[38;5;241m>\u001b[39m \u001b[38;5;241m0\u001b[39m:\n\u001b[0;32m--> 494\u001b[0m     _, \u001b[38;5;28mself\u001b[39m\u001b[38;5;241m.\u001b[39msampler_state \u001b[38;5;241m=\u001b[39m \u001b[38;5;28;43mself\u001b[39;49m\u001b[38;5;241;43m.\u001b[39;49m\u001b[43msampler\u001b[49m\u001b[38;5;241;43m.\u001b[39;49m\u001b[43msample\u001b[49m\u001b[43m(\u001b[49m\n\u001b[1;32m    495\u001b[0m \u001b[43m        \u001b[49m\u001b[38;5;28;43mself\u001b[39;49m\u001b[38;5;241;43m.\u001b[39;49m\u001b[43mmodel\u001b[49m\u001b[43m,\u001b[49m\n\u001b[1;32m    496\u001b[0m \u001b[43m        \u001b[49m\u001b[38;5;28;43mself\u001b[39;49m\u001b[38;5;241;43m.\u001b[39;49m\u001b[43mvariables\u001b[49m\u001b[43m,\u001b[49m\n\u001b[1;32m    497\u001b[0m \u001b[43m        \u001b[49m\u001b[43mstate\u001b[49m\u001b[38;5;241;43m=\u001b[39;49m\u001b[38;5;28;43mself\u001b[39;49m\u001b[38;5;241;43m.\u001b[39;49m\u001b[43msampler_state\u001b[49m\u001b[43m,\u001b[49m\n\u001b[1;32m    498\u001b[0m \u001b[43m        \u001b[49m\u001b[43mchain_length\u001b[49m\u001b[38;5;241;43m=\u001b[39;49m\u001b[43mn_discard_per_chain\u001b[49m\u001b[43m,\u001b[49m\n\u001b[1;32m    499\u001b[0m \u001b[43m    \u001b[49m\u001b[43m)\u001b[49m\n\u001b[1;32m    501\u001b[0m \u001b[38;5;28mself\u001b[39m\u001b[38;5;241m.\u001b[39m_samples, \u001b[38;5;28mself\u001b[39m\u001b[38;5;241m.\u001b[39msampler_state \u001b[38;5;241m=\u001b[39m \u001b[38;5;28mself\u001b[39m\u001b[38;5;241m.\u001b[39msampler\u001b[38;5;241m.\u001b[39msample(\n\u001b[1;32m    502\u001b[0m     \u001b[38;5;28mself\u001b[39m\u001b[38;5;241m.\u001b[39mmodel,\n\u001b[1;32m    503\u001b[0m     \u001b[38;5;28mself\u001b[39m\u001b[38;5;241m.\u001b[39mvariables,\n\u001b[1;32m    504\u001b[0m     state\u001b[38;5;241m=\u001b[39m\u001b[38;5;28mself\u001b[39m\u001b[38;5;241m.\u001b[39msampler_state,\n\u001b[1;32m    505\u001b[0m     chain_length\u001b[38;5;241m=\u001b[39mchain_length,\n\u001b[1;32m    506\u001b[0m )\n\u001b[1;32m    507\u001b[0m \u001b[38;5;28;01mreturn\u001b[39;00m \u001b[38;5;28mself\u001b[39m\u001b[38;5;241m.\u001b[39m_samples\n",
      "File \u001b[0;32m~/opt/miniconda3/envs/nqs/lib/python3.12/site-packages/netket/sampler/base.py:284\u001b[0m, in \u001b[0;36mSampler.sample\u001b[0;34m(sampler, machine, parameters, state, chain_length)\u001b[0m\n\u001b[1;32m    281\u001b[0m \u001b[38;5;28;01mif\u001b[39;00m state \u001b[38;5;129;01mis\u001b[39;00m \u001b[38;5;28;01mNone\u001b[39;00m:\n\u001b[1;32m    282\u001b[0m     state \u001b[38;5;241m=\u001b[39m sampler\u001b[38;5;241m.\u001b[39mreset(machine, parameters)\n\u001b[0;32m--> 284\u001b[0m \u001b[38;5;28;01mreturn\u001b[39;00m \u001b[43msampler\u001b[49m\u001b[38;5;241;43m.\u001b[39;49m\u001b[43m_sample_chain\u001b[49m\u001b[43m(\u001b[49m\n\u001b[1;32m    285\u001b[0m \u001b[43m    \u001b[49m\u001b[43mwrap_afun\u001b[49m\u001b[43m(\u001b[49m\u001b[43mmachine\u001b[49m\u001b[43m)\u001b[49m\u001b[43m,\u001b[49m\u001b[43m \u001b[49m\u001b[43mparameters\u001b[49m\u001b[43m,\u001b[49m\u001b[43m \u001b[49m\u001b[43mstate\u001b[49m\u001b[43m,\u001b[49m\u001b[43m \u001b[49m\u001b[43mchain_length\u001b[49m\n\u001b[1;32m    286\u001b[0m \u001b[43m\u001b[49m\u001b[43m)\u001b[49m\n",
      "File \u001b[0;32m~/opt/miniconda3/envs/nqs/lib/python3.12/site-packages/netket/utils/struct/pytree.py:310\u001b[0m, in \u001b[0;36mPytree._pytree__unflatten\u001b[0;34m(cls, static_fields, node_values)\u001b[0m\n\u001b[1;32m    303\u001b[0m         \u001b[38;5;28;01mraise\u001b[39;00m \u001b[38;5;167;01mValueError\u001b[39;00m(\n\u001b[1;32m    304\u001b[0m             \u001b[38;5;124mf\u001b[39m\u001b[38;5;124m\"\u001b[39m\u001b[38;5;124mUnexpected fields in \u001b[39m\u001b[38;5;132;01m{\u001b[39;00m\u001b[38;5;28mcls\u001b[39m\u001b[38;5;241m.\u001b[39m\u001b[38;5;18m__name__\u001b[39m\u001b[38;5;132;01m}\u001b[39;00m\u001b[38;5;124m: \u001b[39m\u001b[38;5;132;01m{\u001b[39;00m\u001b[38;5;124m'\u001b[39m\u001b[38;5;124m, \u001b[39m\u001b[38;5;124m'\u001b[39m\u001b[38;5;241m.\u001b[39mjoin(all_vars\u001b[38;5;241m.\u001b[39mkeys())\u001b[38;5;132;01m}\u001b[39;00m\u001b[38;5;124m.\u001b[39m\u001b[38;5;124m\"\u001b[39m\n\u001b[1;32m    305\u001b[0m             \u001b[38;5;124m\"\u001b[39m\u001b[38;5;124mYou cannot add new fields to a Pytree after it has been initialized.\u001b[39m\u001b[38;5;124m\"\u001b[39m\n\u001b[1;32m    306\u001b[0m         )\n\u001b[1;32m    308\u001b[0m     \u001b[38;5;28;01mreturn\u001b[39;00m node_values, MappingProxyType(static)\n\u001b[0;32m--> 310\u001b[0m \u001b[38;5;129m@classmethod\u001b[39m\n\u001b[1;32m    311\u001b[0m \u001b[38;5;28;01mdef\u001b[39;00m \u001b[38;5;21m_pytree__unflatten\u001b[39m(\n\u001b[1;32m    312\u001b[0m     \u001b[38;5;28mcls\u001b[39m: \u001b[38;5;28mtype\u001b[39m[P],\n\u001b[1;32m    313\u001b[0m     static_fields: tp\u001b[38;5;241m.\u001b[39mMapping[\u001b[38;5;28mstr\u001b[39m, tp\u001b[38;5;241m.\u001b[39mAny],\n\u001b[1;32m    314\u001b[0m     node_values: \u001b[38;5;28mtuple\u001b[39m[tp\u001b[38;5;241m.\u001b[39mAny, \u001b[38;5;241m.\u001b[39m\u001b[38;5;241m.\u001b[39m\u001b[38;5;241m.\u001b[39m],\n\u001b[1;32m    315\u001b[0m ) \u001b[38;5;241m-\u001b[39m\u001b[38;5;241m>\u001b[39m P:\n\u001b[1;32m    316\u001b[0m     pytree \u001b[38;5;241m=\u001b[39m \u001b[38;5;28mobject\u001b[39m\u001b[38;5;241m.\u001b[39m\u001b[38;5;21m__new__\u001b[39m(\u001b[38;5;28mcls\u001b[39m)\n\u001b[1;32m    317\u001b[0m     pytree\u001b[38;5;241m.\u001b[39m\u001b[38;5;18m__dict__\u001b[39m\u001b[38;5;241m.\u001b[39mupdate(\u001b[38;5;28mzip\u001b[39m(static_fields[\u001b[38;5;124m\"\u001b[39m\u001b[38;5;124m_pytree__node_fields\u001b[39m\u001b[38;5;124m\"\u001b[39m], node_values))\n",
      "\u001b[0;31mKeyboardInterrupt\u001b[0m: "
     ]
    }
   ],
   "source": [
    "for N in range(27, 31):\n",
    "    if not N % 2 == 0:\n",
    "        continue\n",
    "    \n",
    "    print(f'running: N={N}')\n",
    "\n",
    "    hs = haldane_shastry_model(N)\n",
    "    rbm = nk.models.RBM(alpha=1*(N/10), param_dtype=complex, kernel_init=nn.initializers.normal(stddev=0.01))\n",
    "\n",
    "    hi = nk.hilbert.Spin(s=1/2, N=N)\n",
    "    sampler = nk.sampler.MetropolisLocal(hi)\n",
    "\n",
    "    vstate = nk.vqs.MCState(sampler, model=rbm, n_samples=512 + 16 * N)\n",
    "    optimizer = nk.optimizer.Sgd(learning_rate=0.1)\n",
    "    preconditioner = nk.optimizer.SR(diag_shift=0.1, holomorphic=False)\n",
    "    vmc = nk.driver.VMC(hs, optimizer, variational_state=vstate, preconditioner=preconditioner)\n",
    "\n",
    "    true_energy = -np.pi**2 / 24 * (N + 5 / N) \n",
    "    print('expecting energy', true_energy)\n",
    "\n",
    "    log = nk.logging.RuntimeLog()\n",
    "    vmc.run(n_iter=500 + 15 * N, out=log)\n",
    "    opt_energy = vstate.expect(hs)\n",
    "\n",
    "    nqs_en_x.append(N)\n",
    "    analytical_en_x.append(N)\n",
    "    nqs_en_y.append(opt_energy.mean.real)\n",
    "    analytical_en_y.append(true_energy)"
   ]
  },
  {
   "cell_type": "code",
   "execution_count": null,
   "metadata": {},
   "outputs": [],
   "source": [
    "np.savetxt(\"../data/hs_outputs_1.txt\", np.column_stack((nqs_en_x, nqs_en_y, analytical_en_x, analytical_en_y)))"
   ]
  }
 ],
 "metadata": {
  "interpreter": {
   "hash": "a4490d07855ce6dbb083e5b55c7e7add8ece8ad50366222b47f99816f86d7c22"
  },
  "kernelspec": {
   "display_name": "Python 3.10.13 ('csci1470')",
   "language": "python",
   "name": "python3"
  },
  "language_info": {
   "codemirror_mode": {
    "name": "ipython",
    "version": 3
   },
   "file_extension": ".py",
   "mimetype": "text/x-python",
   "name": "python",
   "nbconvert_exporter": "python",
   "pygments_lexer": "ipython3",
   "version": "3.12.3"
  },
  "orig_nbformat": 4
 },
 "nbformat": 4,
 "nbformat_minor": 2
}
