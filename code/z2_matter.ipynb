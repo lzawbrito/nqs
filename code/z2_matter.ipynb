{
 "cells": [
  {
   "cell_type": "code",
   "execution_count": 1,
   "metadata": {},
   "outputs": [],
   "source": [
    "import os\n",
    "import netket as nk\n",
    "from netket.operator.spin import sigmax, sigmaz, sigmay\n",
    "# from src.wilson import * \n",
    "from src.models import * \n",
    "import matplotlib.pyplot as plt"
   ]
  },
  {
   "cell_type": "code",
   "execution_count": 2,
   "metadata": {},
   "outputs": [
    {
     "name": "stdout",
     "output_type": "stream",
     "text": [
      "g.n_edges = 128, LxLx2 = 128\n"
     ]
    }
   ],
   "source": [
    "L = 8\n",
    "g = nk.graph.Square(L, pbc=True)\n",
    "print(f'g.n_edges = {g.n_edges}, LxLx2 = {L**2 * 2}')\n",
    "hi = nk.hilbert.Spin(s=1/2, N=g.n_edges + g.n_nodes)\n",
    "theta = np.pi / 4\n",
    "phi = np.pi / 4"
   ]
  },
  {
   "cell_type": "markdown",
   "metadata": {},
   "source": [
    "The $\\mathbb{Z}_2$ gauge theory with matter Hamiltonian is \n",
    "$$\n",
    "H = -\\cos\\theta \\sum_{\\square}\\sum_{\\langle ij\\rangle \\in\\square} \\sigma_{ij}^z - \\sin\\theta \\sum_{\\langle ij \\rangle} \\sigma_{ij}^x\n",
    "- \\cos \\phi \\sum_{\\langle ij\\rangle} \\tau_i^z \\sigma_{ij}^z \\tau_j^z - \\sin\\phi \\sum_i \\tau^x_i\n",
    "$$"
   ]
  },
  {
   "cell_type": "code",
   "execution_count": 3,
   "metadata": {},
   "outputs": [],
   "source": [
    "def z2_matter_hamiltonian(theta, phi, g, hi):\n",
    "\th = 0\n",
    "\tedges = ordered_edges(g)\n",
    "\n",
    "\tfor i in g.nodes(): \n",
    "\t\tl, r, u, d = plaquette_indices(i, L)\n",
    "\t\th += - np.cos(theta) * sigmaz(hi, l) * sigmaz(hi, d) * sigmaz(hi, r) * sigmaz(hi, u)\n",
    "\n",
    "\t\th += - np.sin(phi) * sigmaz(hi, 2*L**2 + i)\n",
    "\n",
    "\ti = 0\n",
    "\tfor e in edges:\n",
    "\t\th += - np.sin(theta) * sigmax(hi, i)\n",
    "\t\th += - np.cos(theta) * sigmaz(hi, 2*L**2 + e[0]) * sigmaz(hi, i) * sigmaz(hi, 2*L**2 + e[1])\n",
    "\t\ti += 1\n",
    "\treturn h\n",
    "\n",
    "# z2_matter_hamiltonian(np.pi/4, np.pi/4, g, hi)"
   ]
  },
  {
   "cell_type": "code",
   "execution_count": 4,
   "metadata": {},
   "outputs": [
    {
     "name": "stderr",
     "output_type": "stream",
     "text": [
      "100%|██████████| 10/10 [00:24<00:00,  2.46s/it, Energy=-129.10+0.02j ± 0.32 [σ²=100.10, R̂=1.0136]]\n"
     ]
    },
    {
     "data": {
      "text/plain": [
       "(RuntimeLog():\n",
       "  keys = ['Energy'],)"
      ]
     },
     "execution_count": 4,
     "metadata": {},
     "output_type": "execute_result"
    }
   ],
   "source": [
    "gerbil = GERBIL(graph=g)\n",
    "sampler = nk.sampler.MetropolisLocal(hi)\n",
    "vstate = nk.vqs.MCState(sampler, model=gerbil, n_samples=1008)\n",
    "optimizer = nk.optimizer.Sgd(learning_rate=0.05)\n",
    "preconditioner = nk.optimizer.SR(diag_shift=0.1, holomorphic=False)\n",
    "h = z2_matter_hamiltonian(theta, phi, g, hi)\n",
    "vmc = nk.driver.VMC(h, optimizer, variational_state=vstate, preconditioner=preconditioner)\n",
    "log = nk.logging.RuntimeLog()\n",
    "vmc.run(n_iter=10, out=log)"
   ]
  }
 ],
 "metadata": {
  "kernelspec": {
   "display_name": "Python 3",
   "language": "python",
   "name": "python3"
  },
  "language_info": {
   "codemirror_mode": {
    "name": "ipython",
    "version": 3
   },
   "file_extension": ".py",
   "mimetype": "text/x-python",
   "name": "python",
   "nbconvert_exporter": "python",
   "pygments_lexer": "ipython3",
   "version": "3.10.13"
  }
 },
 "nbformat": 4,
 "nbformat_minor": 2
}
