{
 "cells": [
  {
   "cell_type": "code",
   "execution_count": 5,
   "metadata": {},
   "outputs": [],
   "source": [
    "import os\n",
    "import netket as nk\n",
    "from netket.operator.spin import sigmax, sigmaz, sigmay\n",
    "# from src.wilson import * \n",
    "from src.models import * \n",
    "import matplotlib.pyplot as plt"
   ]
  },
  {
   "cell_type": "code",
   "execution_count": 6,
   "metadata": {},
   "outputs": [
    {
     "name": "stdout",
     "output_type": "stream",
     "text": [
      "g.n_edges = 4, LxLx2 = 8\n"
     ]
    }
   ],
   "source": [
    "L = 3\n",
    "g = nk.graph.Square(L, pbc=True)\n",
    "print(f'g.n_edges = {g.n_edges}, LxLx2 = {L**2 * 2}')\n",
    "hi = nk.hilbert.Spin(s=1/2, N=g.n_edges + g.n_nodes)\n",
    "theta = np.pi / 4\n",
    "phi = np.pi / 4"
   ]
  },
  {
   "cell_type": "markdown",
   "metadata": {},
   "source": [
    "The $\\mathbb{Z}_2$ gauge theory with matter Hamiltonian is \n",
    "$$\n",
    "H = -\\cos\\theta \\sum_{\\square}\\sum_{\\langle ij\\rangle \\in\\square} \\sigma_{ij}^z - \\sin\\theta \\sum_{\\langle ij \\rangle} \\sigma_{ij}^x\n",
    "- \\cos \\phi \\sum_{\\langle ij\\rangle} \\tau_i^z \\sigma_{ij}^z \\tau_j^z - \\sin\\phi \\sum_i \\tau^x_i\n",
    "$$"
   ]
  },
  {
   "cell_type": "code",
   "execution_count": 7,
   "metadata": {},
   "outputs": [],
   "source": [
    "def z2_matter_hamiltonian(theta, phi, g, hi):\n",
    "\th = 0\n",
    "\tedges = ordered_edges(g)\n",
    "\n",
    "\tfor i in g.nodes(): \n",
    "\t\tl, r, u, d = plaquette_indices(i, L)\n",
    "\t\th += - np.cos(theta) * sigmaz(hi, l) * sigmaz(hi, d) * sigmaz(hi, r) * sigmaz(hi, u)\n",
    "\n",
    "\t\th += - np.sin(phi) * sigmaz(hi, 2*L**2 + i)\n",
    "\n",
    "\ti = 0\n",
    "\tfor e in edges:\n",
    "\t\th += - np.sin(theta) * sigmax(hi, i)\n",
    "\t\th += - np.cos(theta) * sigmaz(hi, 2*L**2 + e[0]) * sigmaz(hi, i) * sigmaz(hi, 2*L**2 + e[1])\n",
    "\t\ti += 1\n",
    "\treturn h\n"
   ]
  },
  {
   "cell_type": "code",
   "execution_count": 7,
   "metadata": {},
   "outputs": [
    {
     "ename": "ValueError",
     "evalue": "An operator acts on an invalid set of sites.",
     "output_type": "error",
     "traceback": [
      "\u001b[0;31m---------------------------------------------------------------------------\u001b[0m",
      "\u001b[0;31mValueError\u001b[0m                                Traceback (most recent call last)",
      "Cell \u001b[0;32mIn[7], line 1\u001b[0m\n\u001b[0;32m----> 1\u001b[0m h \u001b[38;5;241m=\u001b[39m \u001b[43mz2_matter_hamiltonian\u001b[49m\u001b[43m(\u001b[49m\u001b[43mtheta\u001b[49m\u001b[43m,\u001b[49m\u001b[43m \u001b[49m\u001b[43mphi\u001b[49m\u001b[43m,\u001b[49m\u001b[43m \u001b[49m\u001b[43mg\u001b[49m\u001b[43m,\u001b[49m\u001b[43m \u001b[49m\u001b[43mhi\u001b[49m\u001b[43m)\u001b[49m\n\u001b[1;32m      2\u001b[0m \u001b[38;5;66;03m# nk.exact.lanczos_ed(h)\u001b[39;00m\n",
      "Cell \u001b[0;32mIn[3], line 9\u001b[0m, in \u001b[0;36mz2_matter_hamiltonian\u001b[0;34m(theta, phi, g, hi)\u001b[0m\n\u001b[1;32m      6\u001b[0m \tl, r, u, d \u001b[38;5;241m=\u001b[39m plaquette_indices(i, L)\n\u001b[1;32m      7\u001b[0m \th \u001b[38;5;241m+\u001b[39m\u001b[38;5;241m=\u001b[39m \u001b[38;5;241m-\u001b[39m np\u001b[38;5;241m.\u001b[39mcos(theta) \u001b[38;5;241m*\u001b[39m sigmaz(hi, l) \u001b[38;5;241m*\u001b[39m sigmaz(hi, d) \u001b[38;5;241m*\u001b[39m sigmaz(hi, r) \u001b[38;5;241m*\u001b[39m sigmaz(hi, u)\n\u001b[0;32m----> 9\u001b[0m \th \u001b[38;5;241m+\u001b[39m\u001b[38;5;241m=\u001b[39m \u001b[38;5;241m-\u001b[39m np\u001b[38;5;241m.\u001b[39msin(phi) \u001b[38;5;241m*\u001b[39m \u001b[43msigmaz\u001b[49m\u001b[43m(\u001b[49m\u001b[43mhi\u001b[49m\u001b[43m,\u001b[49m\u001b[43m \u001b[49m\u001b[38;5;241;43m2\u001b[39;49m\u001b[38;5;241;43m*\u001b[39;49m\u001b[43mL\u001b[49m\u001b[38;5;241;43m*\u001b[39;49m\u001b[38;5;241;43m*\u001b[39;49m\u001b[38;5;241;43m2\u001b[39;49m\u001b[43m \u001b[49m\u001b[38;5;241;43m+\u001b[39;49m\u001b[43m \u001b[49m\u001b[43mi\u001b[49m\u001b[43m)\u001b[49m\n\u001b[1;32m     11\u001b[0m i \u001b[38;5;241m=\u001b[39m \u001b[38;5;241m0\u001b[39m\n\u001b[1;32m     12\u001b[0m \u001b[38;5;28;01mfor\u001b[39;00m e \u001b[38;5;129;01min\u001b[39;00m edges:\n",
      "File \u001b[0;32m~/opt/miniconda3/envs/nqs/lib/python3.12/site-packages/netket/operator/spin.py:138\u001b[0m, in \u001b[0;36msigmaz\u001b[0;34m(hilbert, site, dtype)\u001b[0m\n\u001b[1;32m    136\u001b[0m mat \u001b[38;5;241m=\u001b[39m np\u001b[38;5;241m.\u001b[39mdiag(D, \u001b[38;5;241m0\u001b[39m)\n\u001b[1;32m    137\u001b[0m mat \u001b[38;5;241m=\u001b[39m _sparse\u001b[38;5;241m.\u001b[39mcoo_matrix(mat)\n\u001b[0;32m--> 138\u001b[0m \u001b[38;5;28;01mreturn\u001b[39;00m \u001b[43m_LocalOperator\u001b[49m\u001b[43m(\u001b[49m\u001b[43mhilbert\u001b[49m\u001b[43m,\u001b[49m\u001b[43m \u001b[49m\u001b[43mmat\u001b[49m\u001b[43m,\u001b[49m\u001b[43m \u001b[49m\u001b[43m[\u001b[49m\u001b[43msite\u001b[49m\u001b[43m]\u001b[49m\u001b[43m,\u001b[49m\u001b[43m \u001b[49m\u001b[43mdtype\u001b[49m\u001b[38;5;241;43m=\u001b[39;49m\u001b[43mdtype\u001b[49m\u001b[43m)\u001b[49m\n",
      "File \u001b[0;32m~/opt/miniconda3/envs/nqs/lib/python3.12/site-packages/netket/operator/_local_operator/base.py:118\u001b[0m, in \u001b[0;36mLocalOperatorBase.__init__\u001b[0;34m(self, hilbert, operators, acting_on, constant, dtype, mel_cutoff)\u001b[0m\n\u001b[1;32m    109\u001b[0m     \u001b[38;5;28;01mraise\u001b[39;00m \u001b[38;5;167;01mValueError\u001b[39;00m(\n\u001b[1;32m    110\u001b[0m         dedent(\n\u001b[1;32m    111\u001b[0m \u001b[38;5;250m            \u001b[39m\u001b[38;5;124;03m\"\"\"LocalOperator needs an hilbert space with sorted state values at\u001b[39;00m\n\u001b[0;32m   (...)\u001b[0m\n\u001b[1;32m    114\u001b[0m         )\n\u001b[1;32m    115\u001b[0m     )\n\u001b[1;32m    117\u001b[0m \u001b[38;5;66;03m# Canonicalize input. From now on input is guaranteed to be in canonical order\u001b[39;00m\n\u001b[0;32m--> 118\u001b[0m operators, acting_on, dtype \u001b[38;5;241m=\u001b[39m \u001b[43mcanonicalize_input\u001b[49m\u001b[43m(\u001b[49m\n\u001b[1;32m    119\u001b[0m \u001b[43m    \u001b[49m\u001b[38;5;28;43mself\u001b[39;49m\u001b[38;5;241;43m.\u001b[39;49m\u001b[43mhilbert\u001b[49m\u001b[43m,\u001b[49m\u001b[43m \u001b[49m\u001b[43moperators\u001b[49m\u001b[43m,\u001b[49m\u001b[43m \u001b[49m\u001b[43macting_on\u001b[49m\u001b[43m,\u001b[49m\u001b[43m \u001b[49m\u001b[43mconstant\u001b[49m\u001b[43m,\u001b[49m\u001b[43m \u001b[49m\u001b[43mdtype\u001b[49m\u001b[38;5;241;43m=\u001b[39;49m\u001b[43mdtype\u001b[49m\n\u001b[1;32m    120\u001b[0m \u001b[43m\u001b[49m\u001b[43m)\u001b[49m\n\u001b[1;32m    121\u001b[0m \u001b[38;5;28mself\u001b[39m\u001b[38;5;241m.\u001b[39m_dtype \u001b[38;5;241m=\u001b[39m dtype\n\u001b[1;32m    122\u001b[0m \u001b[38;5;28mself\u001b[39m\u001b[38;5;241m.\u001b[39m_constant \u001b[38;5;241m=\u001b[39m np\u001b[38;5;241m.\u001b[39marray(constant, dtype\u001b[38;5;241m=\u001b[39mdtype)\n",
      "File \u001b[0;32m~/opt/miniconda3/envs/nqs/lib/python3.12/site-packages/netket/operator/_local_operator/helpers.py:106\u001b[0m, in \u001b[0;36mcanonicalize_input\u001b[0;34m(hilbert, operators, acting_on, constant, dtype)\u001b[0m\n\u001b[1;32m    104\u001b[0m \u001b[38;5;28;01melse\u001b[39;00m:\n\u001b[1;32m    105\u001b[0m     \u001b[38;5;28;01mif\u001b[39;00m \u001b[38;5;28mmax\u001b[39m(\u001b[38;5;28mmap\u001b[39m(\u001b[38;5;28mmax\u001b[39m, acting_on)) \u001b[38;5;241m>\u001b[39m\u001b[38;5;241m=\u001b[39m hilbert\u001b[38;5;241m.\u001b[39msize \u001b[38;5;129;01mor\u001b[39;00m \u001b[38;5;28mmin\u001b[39m(\u001b[38;5;28mmap\u001b[39m(\u001b[38;5;28mmin\u001b[39m, acting_on)) \u001b[38;5;241m<\u001b[39m \u001b[38;5;241m0\u001b[39m:\n\u001b[0;32m--> 106\u001b[0m         \u001b[38;5;28;01mraise\u001b[39;00m \u001b[38;5;167;01mValueError\u001b[39;00m(\u001b[38;5;124m\"\u001b[39m\u001b[38;5;124mAn operator acts on an invalid set of sites.\u001b[39m\u001b[38;5;124m\"\u001b[39m)\n\u001b[1;32m    108\u001b[0m     \u001b[38;5;28;01mfor\u001b[39;00m i, aon \u001b[38;5;129;01min\u001b[39;00m \u001b[38;5;28menumerate\u001b[39m(acting_on):\n\u001b[1;32m    109\u001b[0m         \u001b[38;5;28;01mif\u001b[39;00m \u001b[38;5;28mlen\u001b[39m(aon) \u001b[38;5;241m!=\u001b[39m \u001b[38;5;28mlen\u001b[39m(\u001b[38;5;28mset\u001b[39m(aon)):\n",
      "\u001b[0;31mValueError\u001b[0m: An operator acts on an invalid set of sites."
     ]
    }
   ],
   "source": [
    "h = z2_matter_hamiltonian(theta, phi, g, hi)\n",
    "nk.exact.lanczos_ed(h)"
   ]
  },
  {
   "cell_type": "code",
   "execution_count": null,
   "metadata": {},
   "outputs": [],
   "source": [
    "gerbil = GERBIL(graph=g)\n",
    "sampler = nk.sampler.MetropolisLocal(hi)\n",
    "vstate = nk.vqs.MCState(sampler, model=gerbil, n_samples=1008)\n",
    "optimizer = nk.optimizer.Sgd(learning_rate=0.05)\n",
    "preconditioner = nk.optimizer.SR(diag_shift=0.1, holomorphic=False)\n",
    "\n",
    "vmc = nk.driver.VMC(h, optimizer, variational_state=vstate, preconditioner=preconditioner)\n",
    "log = nk.logging.RuntimeLog()\n",
    "vmc.run(n_iter=10, out=log)"
   ]
  }
 ],
 "metadata": {
  "kernelspec": {
   "display_name": "Python 3",
   "language": "python",
   "name": "python3"
  },
  "language_info": {
   "codemirror_mode": {
    "name": "ipython",
    "version": 3
   },
   "file_extension": ".py",
   "mimetype": "text/x-python",
   "name": "python",
   "nbconvert_exporter": "python",
   "pygments_lexer": "ipython3",
   "version": "3.12.3"
  }
 },
 "nbformat": 4,
 "nbformat_minor": 2
}
