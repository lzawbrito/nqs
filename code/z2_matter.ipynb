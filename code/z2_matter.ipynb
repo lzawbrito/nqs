{
 "cells": [
  {
   "cell_type": "code",
   "execution_count": 1,
   "metadata": {},
   "outputs": [
    {
     "name": "stdout",
     "output_type": "stream",
     "text": [
      "too many bitches, where the fellas at?\n"
     ]
    }
   ],
   "source": [
    "print(\"too many bitches, where the fellas at?\")"
   ]
  },
  {
   "cell_type": "code",
   "execution_count": 5,
   "metadata": {},
   "outputs": [],
   "source": [
    "import os\n",
    "import netket as nk\n",
    "from netket.operator.spin import sigmax, sigmaz, sigmay\n",
    "import numpy as np\n",
    "# from src.wilson import * \n",
    "#from src.models import * \n",
    "import matplotlib.pyplot as plt"
   ]
  },
  {
   "cell_type": "code",
   "execution_count": 3,
   "metadata": {},
   "outputs": [
    {
     "name": "stdout",
     "output_type": "stream",
     "text": [
      "g.n_edges = 128, LxLx2 = 128\n"
     ]
    }
   ],
   "source": [
    "L = 8\n",
    "g = nk.graph.Square(L, pbc=True)\n",
    "print(f'g.n_edges = {g.n_edges}, LxLx2 = {L**2 * 2}')\n",
    "hi = nk.hilbert.Spin(s=1/2, N=g.n_edges)"
   ]
  },
  {
   "cell_type": "code",
   "execution_count": 8,
   "metadata": {},
   "outputs": [
    {
     "name": "stdout",
     "output_type": "stream",
     "text": [
      "[[[0.98215616 0.69156328 0.82497317 0.92194979]\n",
      "  [0.06211781 0.31802597 0.07801264 0.76393965]\n",
      "  [0.64832239 0.56938487 0.77260175 0.84500525]\n",
      "  [0.31902154 0.60617271 0.56361929 0.5336794 ]]]\n",
      "[[[0.51027979 0.76312435 0.78289578 0.88384733]\n",
      "  [0.70351522 0.96250128 0.60359535 0.20472387]\n",
      "  [0.43884378 0.91031578 0.9090197  0.74296623]\n",
      "  [0.12819441 0.62246193 0.18623606 0.53419632]]\n",
      "\n",
      " [[0.28452463 0.3496681  0.94995942 0.70863871]\n",
      "  [0.53123184 0.18686091 0.73931824 0.12360296]\n",
      "  [0.77939228 0.15468867 0.91375433 0.94344255]\n",
      "  [0.55632194 0.97866305 0.15036199 0.63419333]]]\n"
     ]
    }
   ],
   "source": [
    "L = 4\n",
    "matrix = np.random.rand(3, L, L)\n",
    "\n",
    "# Splitting into two matrices\n",
    "matrix_1xLxL = matrix[0:2, :, :]  # Extract the first slice\n",
    "matrix_2xLxL = matrix[2:3, :, :]   # Extract the second and third slices\n"
   ]
  }
 ],
 "metadata": {
  "kernelspec": {
   "display_name": "Python 3",
   "language": "python",
   "name": "python3"
  },
  "language_info": {
   "codemirror_mode": {
    "name": "ipython",
    "version": 3
   },
   "file_extension": ".py",
   "mimetype": "text/x-python",
   "name": "python",
   "nbconvert_exporter": "python",
   "pygments_lexer": "ipython3",
   "version": "3.11.1"
  }
 },
 "nbformat": 4,
 "nbformat_minor": 2
}
